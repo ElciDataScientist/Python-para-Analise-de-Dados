{
  "nbformat": 4,
  "nbformat_minor": 0,
  "metadata": {
    "colab": {
      "provenance": []
    },
    "kernelspec": {
      "name": "python3",
      "display_name": "Python 3"
    },
    "language_info": {
      "name": "python"
    }
  },
  "cells": [
    {
      "cell_type": "markdown",
      "source": [
        "### Classe Uma representação de um elemento, real ou não. Uma receita para criar objetos (instâncias).\n",
        "\n",
        "### **Exemplo: pessoa.**"
      ],
      "metadata": {
        "id": "e1va_aw1z1xa"
      }
    },
    {
      "cell_type": "markdown",
      "source": [
        "### Objeto Uma instancia de uma classe. Dá vida a receita (classe).\n",
        "\n",
        "### **Exemplo: André é um instância da classe pessoa.**"
      ],
      "metadata": {
        "id": "aqFzCFIqz8ed"
      }
    },
    {
      "cell_type": "markdown",
      "source": [
        "### Herança Uma especialização da classe.\n",
        "\n",
        "### **Exemplo: estudante é um tipo especial de pessoa.**"
      ],
      "metadata": {
        "id": "7FAv7LGi0G6s"
      }
    },
    {
      "cell_type": "markdown",
      "source": [
        "### **Classe é uma receita para criação de objetos.**"
      ],
      "metadata": {
        "id": "XUbxXs0e0TTK"
      }
    },
    {
      "cell_type": "code",
      "source": [
        "class NomeClasse(object):\n",
        "\n",
        "  def __init__(self, params):\n",
        "    self.atributo1 = ...\n",
        "    self.atributo2 = ...\n",
        "  def metodo1(self, params):\n",
        "    ...\n",
        "  def metodo2(self, params):\n",
        "    ..."
      ],
      "metadata": {
        "id": "VmX9pVnw0XnG"
      },
      "execution_count": 2,
      "outputs": []
    },
    {
      "cell_type": "markdown",
      "source": [
        "### **Atributos**\n",
        "### **Representam as características da classe.**"
      ],
      "metadata": {
        "id": "WBAzIV7l0wXq"
      }
    },
    {
      "cell_type": "code",
      "source": [
        "class Pessoa(object):\n",
        "\n",
        "  def init (self, nome: str, idade: int, documento: str):\n",
        "    self.nome = nome\n",
        "    self.idade = idade\n",
        "    self.documento = documento"
      ],
      "metadata": {
        "id": "ey_b0ZB30zqM"
      },
      "execution_count": 3,
      "outputs": []
    },
    {
      "cell_type": "markdown",
      "source": [
        "### **Métodos**\n",
        "### **Representam as ações da classe.**"
      ],
      "metadata": {
        "id": "4yPhDPzB1C4J"
      }
    },
    {
      "cell_type": "code",
      "source": [
        "class Pessoa(object):\n",
        "\n",
        "  def __init__(self, nome: str, idade: int, documento: str = None):\n",
        "    self.nome = nome\n",
        "    self.idade = idade\n",
        "    self.documento = documento\n",
        "\n",
        "  def dormir(self, horas: int) -> None:\n",
        "    for hora in range(1,horas+1):\n",
        "      print(f'Dormindo por {hora} horas')\n",
        "      from time import sleep\n",
        "      sleep(1)\n",
        "\n",
        "  def falar(self, texto: str) -> None:\n",
        "    print(texto)\n",
        "\n",
        "  def __str__(self) -> str:\n",
        "    return f'{self.nome}, {self.idade} anos e ' + \\\n",
        "           f'documento numero {self.documento}'"
      ],
      "metadata": {
        "id": "06ryP8bo3Dpn"
      },
      "execution_count": 13,
      "outputs": []
    },
    {
      "cell_type": "markdown",
      "source": [
        "### **class NomeClasse(object):...**\n",
        "\n",
        "### **objeto = NomeClasse()**\n",
        "\n",
        "### **objeto.atributo objeto.metodo()**"
      ],
      "metadata": {
        "id": "ROqpPBi22GXd"
      }
    },
    {
      "cell_type": "code",
      "source": [
        "andre = Pessoa(nome='Andre Perez', idade=30, documento='123')\n",
        "maria = Pessoa(nome='Maria Perez', idade=56, documento='456')\n",
        "pedro = Pessoa(nome='Pedro Perez', idade=8)"
      ],
      "metadata": {
        "id": "CLqNJ54i2O7t"
      },
      "execution_count": 14,
      "outputs": []
    },
    {
      "cell_type": "markdown",
      "source": [
        "### **Manipulação**\n",
        "### **Atributo**"
      ],
      "metadata": {
        "id": "0jqdNKlO3Mwi"
      }
    },
    {
      "cell_type": "code",
      "source": [
        "print(andre.nome)"
      ],
      "metadata": {
        "colab": {
          "base_uri": "https://localhost:8080/"
        },
        "id": "8j-OBtyE3RZD",
        "outputId": "0d2c8c65-da7c-4cbe-b18c-a9b883c79c90"
      },
      "execution_count": 16,
      "outputs": [
        {
          "output_type": "stream",
          "name": "stdout",
          "text": [
            "Andre Perez\n"
          ]
        }
      ]
    },
    {
      "cell_type": "code",
      "source": [
        "def maior_de_idade(idade: int) -> bool:\n",
        "  return idade >= 18\n",
        "\n",
        "  if maior_de_idade(idade=andre.idade):\n",
        "    print(f'{andre.nome} é maior de idade')"
      ],
      "metadata": {
        "id": "3F2FAicx3TWH"
      },
      "execution_count": 17,
      "outputs": []
    },
    {
      "cell_type": "code",
      "source": [
        "score_credito = {'123': 750, '456': 812, '789': 327}\n",
        "\n",
        "score = score_credito[andre.documento]\n",
        "print(score)"
      ],
      "metadata": {
        "colab": {
          "base_uri": "https://localhost:8080/"
        },
        "id": "y_y6ScZ13aP8",
        "outputId": "d749a9cb-0a61-4b16-b26e-07e197a8353c"
      },
      "execution_count": 18,
      "outputs": [
        {
          "output_type": "stream",
          "name": "stdout",
          "text": [
            "750\n"
          ]
        }
      ]
    },
    {
      "cell_type": "markdown",
      "source": [
        "### **Métodos**"
      ],
      "metadata": {
        "id": "hwDv_NZv3gkP"
      }
    },
    {
      "cell_type": "code",
      "source": [
        "andre.dormir(horas=8)"
      ],
      "metadata": {
        "colab": {
          "base_uri": "https://localhost:8080/"
        },
        "id": "E6whvEfU3hzY",
        "outputId": "df8aee0f-a19d-4d94-a98d-14115a6223a5"
      },
      "execution_count": 19,
      "outputs": [
        {
          "output_type": "stream",
          "name": "stdout",
          "text": [
            "Dormindo por 1 horas\n",
            "Dormindo por 2 horas\n",
            "Dormindo por 3 horas\n",
            "Dormindo por 4 horas\n",
            "Dormindo por 5 horas\n",
            "Dormindo por 6 horas\n",
            "Dormindo por 7 horas\n",
            "Dormindo por 8 horas\n"
          ]
        }
      ]
    },
    {
      "cell_type": "code",
      "source": [
        "andre.falar(texto='Olá pessoal!')"
      ],
      "metadata": {
        "colab": {
          "base_uri": "https://localhost:8080/"
        },
        "id": "9B3U6uLs3jsR",
        "outputId": "7ede1d85-1a9c-4355-c202-5b1e5626438d"
      },
      "execution_count": 20,
      "outputs": [
        {
          "output_type": "stream",
          "name": "stdout",
          "text": [
            "Olá pessoal!\n"
          ]
        }
      ]
    },
    {
      "cell_type": "code",
      "source": [
        "print(andre)"
      ],
      "metadata": {
        "colab": {
          "base_uri": "https://localhost:8080/"
        },
        "id": "izdEy8LW3lKE",
        "outputId": "7958904b-f767-4848-8ff3-ded792afaeaa"
      },
      "execution_count": 21,
      "outputs": [
        {
          "output_type": "stream",
          "name": "stdout",
          "text": [
            "Andre Perez, 30 anos e documento numero 123\n"
          ]
        }
      ]
    },
    {
      "cell_type": "code",
      "source": [
        "type(andre)"
      ],
      "metadata": {
        "colab": {
          "base_uri": "https://localhost:8080/",
          "height": 104
        },
        "id": "wwCVMAI53nJ7",
        "outputId": "350cc8ec-42a5-4d9c-cf84-e86b97a09f40"
      },
      "execution_count": 22,
      "outputs": [
        {
          "output_type": "execute_result",
          "data": {
            "text/plain": [
              "__main__.Pessoa"
            ],
            "text/html": [
              "<div style=\"max-width:800px; border: 1px solid var(--colab-border-color);\"><style>\n",
              "      pre.function-repr-contents {\n",
              "        overflow-x: auto;\n",
              "        padding: 8px 12px;\n",
              "        max-height: 500px;\n",
              "      }\n",
              "\n",
              "      pre.function-repr-contents.function-repr-contents-collapsed {\n",
              "        cursor: pointer;\n",
              "        max-height: 100px;\n",
              "      }\n",
              "    </style>\n",
              "    <pre style=\"white-space: initial; background:\n",
              "         var(--colab-secondary-surface-color); padding: 8px 12px;\n",
              "         border-bottom: 1px solid var(--colab-border-color);\"><b>Pessoa</b><br/>def __init__(nome: str, idade: int, documento: str=None)</pre><pre class=\"function-repr-contents function-repr-contents-collapsed\" style=\"\"><a class=\"filepath\" style=\"display:none\" href=\"#\"></a>&lt;no docstring&gt;</pre></div>"
            ]
          },
          "metadata": {},
          "execution_count": 22
        }
      ]
    },
    {
      "cell_type": "markdown",
      "source": [
        "### **Classe Arquivo CSV**"
      ],
      "metadata": {
        "id": "8f57VqQA3u4_"
      }
    },
    {
      "cell_type": "code",
      "source": [
        "class ArquivoCSV(object):\n",
        "\n",
        "  def __init__(self, arquivo: str):\n",
        "    self.arquivo = arquivo\n",
        "    self.conteudo = self._extrair_conteudo()\n",
        "    self.colunas = self._extrair_nome_colunas()\n",
        "\n",
        "  def _extrair_conteudo(self):\n",
        "    conteudo = None\n",
        "    with open(file=self.arquivo, mode='r', encoding='utf8') as arquivo:\n",
        "      conteudo = arquivo.readlines()\n",
        "    return conteudo\n",
        "\n",
        "  def _extrair_nome_colunas(self):\n",
        "    return self.conteudo[0].strip().split(sep=',')\n",
        "\n",
        "  def extrair_coluna(self, indice_coluna: str):\n",
        "    coluna = list()\n",
        "    for linha in self.conteudo:\n",
        "      conteudo_linha = linha.strip().split(sep=',')\n",
        "      coluna.append(conteudo_linha[indice_coluna])\n",
        "      coluna.pop(0)\n",
        "    return coluna"
      ],
      "metadata": {
        "id": "gW9iG9em6zYz"
      },
      "execution_count": 26,
      "outputs": []
    },
    {
      "cell_type": "code",
      "source": [
        "%%writefile banco.csv\n",
        "age,job,marital,education,default,balance,housing,loan\n",
        "30,unemployed,married,primary,no,1787,no,no\n",
        "33,services,married,secondary,no,4789,yes,yes\n",
        "35,management,single,tertiary,no,1350,yes,no\n",
        "30,management,married,tertiary,no,1476,yes,yes\n",
        "59,blue-collar,married,secondary,no,0,yes,no\n",
        "35,management,single,tertiary,no,747,no,no\n",
        "36,self-employed,married,tertiary,no,307,yes,no\n",
        "39,technician,married,secondary,no,147,yes,no\n",
        "41,entrepreneur,married,tertiary,no,221,yes,no\n",
        "43,services,married,primary,no,-88,yes,yes"
      ],
      "metadata": {
        "colab": {
          "base_uri": "https://localhost:8080/"
        },
        "id": "d4F0uEw768ef",
        "outputId": "3c993161-03ea-4603-dd1c-ec7c74ee5f46"
      },
      "execution_count": 32,
      "outputs": [
        {
          "output_type": "stream",
          "name": "stdout",
          "text": [
            "Writing banco.csv\n"
          ]
        }
      ]
    },
    {
      "cell_type": "code",
      "source": [
        "arquivo_banco= ArquivoCSV(arquivo='./banco.csv')"
      ],
      "metadata": {
        "id": "sUEracGL7Bhr"
      },
      "execution_count": 33,
      "outputs": []
    },
    {
      "cell_type": "code",
      "source": [
        "print(arquivo_banco.colunas)"
      ],
      "metadata": {
        "colab": {
          "base_uri": "https://localhost:8080/"
        },
        "id": "prYBpZun7CuG",
        "outputId": "7445fa54-aab9-4a54-e657-941e951df17d"
      },
      "execution_count": 34,
      "outputs": [
        {
          "output_type": "stream",
          "name": "stdout",
          "text": [
            "['age', 'job', 'marital', 'education', 'default', 'balance', 'housing', 'loan']\n"
          ]
        }
      ]
    },
    {
      "cell_type": "markdown",
      "source": [
        "### **Extraindo a coluna de In [ ]: job**"
      ],
      "metadata": {
        "id": "C8rDrTQc7aoa"
      }
    },
    {
      "cell_type": "code",
      "source": [
        "job = arquivo_banco.extrair_coluna(indice_coluna=1)\n",
        "print(job)"
      ],
      "metadata": {
        "colab": {
          "base_uri": "https://localhost:8080/"
        },
        "id": "y1uJYZiA7fMx",
        "outputId": "e7446c6c-30bb-4c8d-8f2f-971b8c5e371d"
      },
      "execution_count": 35,
      "outputs": [
        {
          "output_type": "stream",
          "name": "stdout",
          "text": [
            "[]\n"
          ]
        }
      ]
    },
    {
      "cell_type": "markdown",
      "source": [
        "### **Extraindo a coluna de In [ ]: education**"
      ],
      "metadata": {
        "id": "43-og6xl7ka5"
      }
    },
    {
      "cell_type": "code",
      "source": [
        "education = arquivo_banco.extrair_coluna(indice_coluna=3)\n",
        "print(education)"
      ],
      "metadata": {
        "colab": {
          "base_uri": "https://localhost:8080/"
        },
        "id": "N4Jcaft07mR5",
        "outputId": "b39439fd-ef51-4b40-82a2-c1f2879f0607"
      },
      "execution_count": 37,
      "outputs": [
        {
          "output_type": "stream",
          "name": "stdout",
          "text": [
            "[]\n"
          ]
        }
      ]
    },
    {
      "cell_type": "markdown",
      "source": [
        "### **Uma especialização da classe.**"
      ],
      "metadata": {
        "id": "-fpFYQSK8Uw5"
      }
    },
    {
      "cell_type": "code",
      "source": [
        "class NomeClasse(object):\n",
        "\n",
        "  def __init__(self, params):\n",
        "\n",
        "    class NomeClasseEspecializada(NomeClasse):\n",
        "\n",
        "      def init(self, params):\n",
        "        super().__init__(self, params)\n",
        "        self.atributo3 = ...\n",
        "        self.atributo4 = ...\n",
        "\n",
        "        def metodo3(self, params):\n",
        "          ...\n",
        "        def metodo4(self, params):\n",
        "          ..."
      ],
      "metadata": {
        "id": "rBjAanNE9m2T"
      },
      "execution_count": 40,
      "outputs": []
    },
    {
      "cell_type": "markdown",
      "source": [
        "### **Repetindo a definição da classe Pessoa**"
      ],
      "metadata": {
        "id": "aVTX6QfL9tU1"
      }
    },
    {
      "cell_type": "code",
      "source": [
        "from time import sleep\n",
        "\n",
        "class Pessoa(object):\n",
        "\n",
        "  def init(self, nome: str, idade: int, documento: str=None):\n",
        "    self.nome = nome\n",
        "    self.idade = idade\n",
        "    self.documento = documento\n",
        "\n",
        "    def dormir(self, horas: int) -> None:\n",
        "        for hora in range(1,horas+1):\n",
        "            print(f'Dormindo por {hora} horas')\n",
        "            sleep(1)\n",
        "\n",
        "    def falar(self, texto: str) -> None: print(texto)\n",
        "\n",
        "    def __str__(self) -> str:\n",
        "      return f'{self.nome}, {self.idade} anos e ' + \\\n",
        "             f'documento numero {self.documento}'"
      ],
      "metadata": {
        "id": "21gdybMX9w40"
      },
      "execution_count": 63,
      "outputs": []
    },
    {
      "cell_type": "markdown",
      "source": [
        "### **Criando a classe Universidade**"
      ],
      "metadata": {
        "id": "Qp2Ps41t-TMe"
      }
    },
    {
      "cell_type": "code",
      "source": [
        "class Universidade(object):\n",
        "\n",
        "  def __init__(self, nome: str):\n",
        "    self.nome = nome"
      ],
      "metadata": {
        "id": "QWbG7kiZ_Lr1"
      },
      "execution_count": 65,
      "outputs": []
    },
    {
      "cell_type": "markdown",
      "source": [
        "### **Especializando a classe Pessoa na classe Estudante**"
      ],
      "metadata": {
        "id": "gAtFXAQT-itt"
      }
    },
    {
      "cell_type": "code",
      "source": [
        "class Estudante(Pessoa):\n",
        "\n",
        "  def __init__( self, nome: str, idade: int,\n",
        "            documento: str,\n",
        "            universidade: Universidade\n",
        "):\n",
        "\n",
        "    super().__init__(nome=nome, idade=idade, documento=documento)\n",
        "    self.universidade= universidade"
      ],
      "metadata": {
        "id": "xvesn2U3ABHZ"
      },
      "execution_count": 66,
      "outputs": []
    },
    {
      "cell_type": "markdown",
      "source": [
        "### **Manipulação**"
      ],
      "metadata": {
        "id": "OSmV-dfc_bsG"
      }
    },
    {
      "cell_type": "code",
      "source": [
        "class Pessoa:\n",
        "  def __init__(self, nome: str, idade: int, documento: str):\n",
        "    self.nome = nome\n",
        "    self.idade = idade\n",
        "    self.documento = documento\n",
        "\n",
        "class Universidade(object):\n",
        "  def __init__(self, nome: str):\n",
        "    self.nome = nome\n",
        "\n",
        "class Estudante(Pessoa):\n",
        "  def __init__( self, nome: str, idade: int,\n",
        "            documento: str,\n",
        "            universidade: Universidade\n",
        "):\n",
        "    super().__init__(nome=nome, idade=idade, documento=documento)\n",
        "    self.universidade= universidade\n",
        "\n",
        "usp = Universidade(nome='Universidade de São Paulo')\n",
        "\n",
        "andre = Estudante(nome='AndrePerez', idade=30, documento='123', universidade=usp)"
      ],
      "metadata": {
        "id": "80iAQEtmArx-"
      },
      "execution_count": 68,
      "outputs": []
    },
    {
      "cell_type": "code",
      "source": [
        "print(andre)"
      ],
      "metadata": {
        "colab": {
          "base_uri": "https://localhost:8080/"
        },
        "id": "wRJ9grUBAGWd",
        "outputId": "8152d729-6d07-4ec8-ef34-aa5cda65f42d"
      },
      "execution_count": 69,
      "outputs": [
        {
          "output_type": "stream",
          "name": "stdout",
          "text": [
            "<__main__.Estudante object at 0x7f3ccd3f1b40>\n"
          ]
        }
      ]
    },
    {
      "cell_type": "code",
      "source": [
        "print(andre.universidade.nome)"
      ],
      "metadata": {
        "colab": {
          "base_uri": "https://localhost:8080/"
        },
        "id": "hiLTGSV-AG5K",
        "outputId": "622742e6-9cea-41ba-bf65-0754c070d0b8"
      },
      "execution_count": 70,
      "outputs": [
        {
          "output_type": "stream",
          "name": "stdout",
          "text": [
            "Universidade de São Paulo\n"
          ]
        }
      ]
    },
    {
      "cell_type": "markdown",
      "source": [
        "## **Conheçaa teoria**"
      ],
      "metadata": {
        "id": "yrEAyiACA7xG"
      }
    },
    {
      "cell_type": "markdown",
      "source": [
        "### **Atributo:** Um dos itens de dados nomeados que compõem uma instância.\n",
        "\n",
        "### **Classe:** Um tipo composto definido pelo usuário. Uma classe também pode ser visualizada como um molde que define a forma dos objetos que serão suas instâncias.\n",
        "\n",
        "### **Herança:** Habilidade de definir uma nova classe que é a versão modificada de uma classe definida anteriormente.\n",
        "\n",
        "### **Instância:** Um objeto que pertence a uma classe.\n",
        "\n",
        "### **Instanciar:** Criar uma instância de uma classe.\n",
        "\n",
        "### **Linguagem orientadaa objetos:** Provê características tais como classes definidas pelo usuário e herança, que facilitam a programação orientada a objetos.\n",
        "\n",
        "### **Método:** Uma função que é definida dentro de uma definição de classe e é chamada em instâncias desta classe.\n",
        "\n",
        "### **Multiparadigma:** Possibilidade de programar em vários paradigmas, como: procedural, funcional ou orientado a objetos.\n",
        "\n",
        "### **Objeto:** Um tipo de dado composto comumente utilizado para representar uma coisa ou um conceito do mundo real.\n",
        "\n",
        "### **Paradigma:** Python é uma linguagem de propósito geral de alto nível, multiparadigma, suporta o paradigma orientado a objetos, imperativo, funcional e procedural.\n",
        "\n",
        "### **Programação funcional:** Este paradigma consiste em programas que são construídos aplicando e compondo funções.\n",
        "\n",
        "### **Programação imperativa:** Neste paradigma, o código é basicamente executado de cima para baixo.\n",
        "\n",
        "### **Programação orientada a objetos:** Um estilo de programação na qual os dados e as operações que os manipulam estão organizados em classes e métodos."
      ],
      "metadata": {
        "id": "UwJWWqL4A9PY"
      }
    },
    {
      "cell_type": "markdown",
      "source": [
        "## **Aprofunde o conceito de classe**"
      ],
      "metadata": {
        "id": "MSKscy1-CrJm"
      }
    },
    {
      "cell_type": "markdown",
      "source": [
        "### **Self:** O parâmetro self é uma referência à instância atual da classe e é usado para acessar variáveis que pertencem à classe.\n",
        "\n",
        "### **Métodos mágicos:** Os métodos mágicos, também chamados de métodos dunderscore ou de métodos especiais, permitem que objetos de nossas classes possuam uma interface de acesso semelhante aos objetos nativos da linguagem.\n",
        "\n",
        "### **_init_:** Use a função _init_() para atribuir valores às propriedades do objeto, ou outras operações que são necessárias quando o objeto está sendo criado.\n",
        "\n"
      ],
      "metadata": {
        "id": "0e-sIUFbCybz"
      }
    },
    {
      "cell_type": "markdown",
      "source": [
        "## **Investigue o conceito de objeto**"
      ],
      "metadata": {
        "id": "5ZMQsQW6Di_A"
      }
    },
    {
      "cell_type": "markdown",
      "source": [
        "### **Açúcar sintático:** Um açúcar sintático é uma sintaxe dentro da linguagem de programação que tem por finalidade tornar suas construções mais fáceis de serem lidas e expressas.\n",
        "\n",
        "### **Strip:** O método strip() remove todos os caracteres iniciais (espaços no início) e finais (espaços no final) (espaço é o caractere principal padrão a ser removido.\n",
        "\n",
        "### **Split:** O método split() divide uma string em uma lista.\n",
        "\n",
        "### **Encapsulamento:** Encapsulamento é a proteção dos atributos ou métodos de uma classe. Em Python, existe somente o public e o private.\n",
        "\n",
        "\n"
      ],
      "metadata": {
        "id": "Wz4iOJvtDkkw"
      }
    },
    {
      "cell_type": "markdown",
      "source": [
        "## **Aplique o conceito de herança**"
      ],
      "metadata": {
        "id": "JmGXu1kNEHw9"
      }
    },
    {
      "cell_type": "markdown",
      "source": [
        "### **Classe pai:** A classe de quem a classe filha herda.\n",
        "\n",
        "### **Classe filha:** Uma nova classe criada herdando de uma classe existente; também chamada de “subclasse”.\n",
        "\n",
        "### **Super:** O super() é utilizado entre heranças de classes, ele nos proporciona estender/subscrever métodos de uma superclasse (classe pai) para uma subclasse (classe filha). Através dele, definimos um novo comportamento para um determinado método construído na classe pai e herdado pela classe filha.\n",
        "\n"
      ],
      "metadata": {
        "id": "McF3wJ-pEJEJ"
      }
    }
  ]
}