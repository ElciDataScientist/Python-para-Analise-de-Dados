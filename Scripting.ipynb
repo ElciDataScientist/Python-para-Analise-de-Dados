{
  "nbformat": 4,
  "nbformat_minor": 0,
  "metadata": {
    "colab": {
      "provenance": []
    },
    "kernelspec": {
      "name": "python3",
      "display_name": "Python 3"
    },
    "language_info": {
      "name": "python"
    }
  },
  "cells": [
    {
      "cell_type": "markdown",
      "source": [
        "### Python e o PIP já vem instalado na máquina virtual provisionada. Exemplo: confira a versão do Python via Python."
      ],
      "metadata": {
        "id": "_wMM0AKeljef"
      }
    },
    {
      "cell_type": "code",
      "execution_count": 1,
      "metadata": {
        "id": "WYjRSid2jcNY"
      },
      "outputs": [],
      "source": [
        "import platform"
      ]
    },
    {
      "cell_type": "code",
      "source": [
        "print(platform.python_version())"
      ],
      "metadata": {
        "colab": {
          "base_uri": "https://localhost:8080/"
        },
        "id": "yj4ivVf3l3sm",
        "outputId": "e8f0a07f-2694-4f6b-db25-24e41502073a"
      },
      "execution_count": 2,
      "outputs": [
        {
          "output_type": "stream",
          "name": "stdout",
          "text": [
            "3.10.12\n"
          ]
        }
      ]
    },
    {
      "cell_type": "code",
      "source": [
        "print(platform.system())"
      ],
      "metadata": {
        "colab": {
          "base_uri": "https://localhost:8080/"
        },
        "id": "FBlrPlMXl4OF",
        "outputId": "44e53a50-07d5-46ff-c3be-61fcb72cb1fb"
      },
      "execution_count": 3,
      "outputs": [
        {
          "output_type": "stream",
          "name": "stdout",
          "text": [
            "Linux\n"
          ]
        }
      ]
    },
    {
      "cell_type": "code",
      "source": [
        "# Conferir a versão do Python via Bash (linguagem nativa do Linux).\n",
        "!python-V"
      ],
      "metadata": {
        "colab": {
          "base_uri": "https://localhost:8080/"
        },
        "id": "SuqzI1Vdl78p",
        "outputId": "4a0734a0-17f1-477c-c3b4-b159757e5347"
      },
      "execution_count": 6,
      "outputs": [
        {
          "output_type": "stream",
          "name": "stdout",
          "text": [
            "/bin/bash: line 1: python-V: command not found\n"
          ]
        }
      ]
    },
    {
      "cell_type": "code",
      "source": [
        "# Conferir a versão do PIP via Bash (linguagem nativa do Linux).\n",
        "!pip-V"
      ],
      "metadata": {
        "colab": {
          "base_uri": "https://localhost:8080/"
        },
        "id": "mlck1EZXmAWR",
        "outputId": "bf1cbef2-2faf-40f3-da5e-c2cf823514f0"
      },
      "execution_count": 7,
      "outputs": [
        {
          "output_type": "stream",
          "name": "stdout",
          "text": [
            "/bin/bash: line 1: pip-V: command not found\n"
          ]
        }
      ]
    },
    {
      "cell_type": "markdown",
      "source": [
        "### **Google Colab**\n",
        "### O software do Python já vem \"aberto\" para ser utilizado.\n",
        "\n"
      ],
      "metadata": {
        "id": "KYitTBrFmnye"
      }
    },
    {
      "cell_type": "code",
      "source": [
        "from datetime import datetime\n",
        "print(datetime.now().year)"
      ],
      "metadata": {
        "colab": {
          "base_uri": "https://localhost:8080/"
        },
        "id": "98IamJ_JmwiE",
        "outputId": "3644997c-4876-4c2f-fd92-c88c9f46ae1b"
      },
      "execution_count": 8,
      "outputs": [
        {
          "output_type": "stream",
          "name": "stdout",
          "text": [
            "2024\n"
          ]
        }
      ]
    },
    {
      "cell_type": "markdown",
      "source": [
        "### **Máquina local**\n",
        "### 1. Crie uma pasta (sugestão);\n",
        "\n",
        "### 2. Abrao terminal nesta pasta (Windows ou linux/macos right click\n",
        "\n",
        "### 3. Execute o seguinte comando: Python shift + right click\n",
        "\n",
        "### 4. Para 'sair' do Python, basta fechar o terminal ou digitar o seguinte código: quit()"
      ],
      "metadata": {
        "id": "8pBYHUxVm26n"
      }
    },
    {
      "cell_type": "markdown",
      "source": [
        "### **Script para extrair a taxa CDI do site da B3.**"
      ],
      "metadata": {
        "id": "0EUi8ri_nGtQ"
      }
    },
    {
      "cell_type": "code",
      "source": [
        "import os\n",
        "import json\n",
        "from random import random\n",
        "from datetime import datetime"
      ],
      "metadata": {
        "id": "WMC5lSbrnKqE"
      },
      "execution_count": 9,
      "outputs": []
    },
    {
      "cell_type": "code",
      "source": [
        "!sudo systemd-resolve --flush-caches"
      ],
      "metadata": {
        "colab": {
          "base_uri": "https://localhost:8080/"
        },
        "id": "3q5YcPtznl6W",
        "outputId": "96d7d645-f660-407b-f5b5-3a8e2ae29641"
      },
      "execution_count": 12,
      "outputs": [
        {
          "output_type": "stream",
          "name": "stdout",
          "text": [
            "sudo: systemd-resolve: command not found\r\n"
          ]
        }
      ]
    },
    {
      "cell_type": "code",
      "source": [
        "import requests\n",
        "\n",
        "URL = 'https://www2.cetip.com.br/ConsultarTaxaDi/ConsultarTaxaDICetip.aspx'\n",
        "from datetime import datetime\n",
        "data_e_hora = datetime.now()\n",
        "data = datetime.strftime(data_e_hora, '%Y/%m/%d')\n",
        "hora = datetime.strftime(data_e_hora, '%H:%M:%S')\n",
        "\n",
        "\n",
        "import socket\n",
        "\n",
        "try:\n",
        "    response = requests.get(URL, timeout=10, headers={'Host': 'www2.cetip.com.br'}, allow_redirects=True)\n",
        "    response.raise_for_status()\n",
        "except requests.exceptions.RequestException as exc:\n",
        "    print(f\"An error occurred: {exc}\")\n",
        "    cdi = None\n",
        "\n",
        "except requests.HTTPError as exc:\n",
        "    print(\"Dado não encontrado, continuando.\")\n",
        "    cdi = None\n",
        "except Exception as exc:\n",
        "    print(\"Erro, parando a execução.\")\n",
        "    raise exc\n",
        "else:\n",
        "    import json\n",
        "    from random import random\n",
        "    dado = json.loads(response.text)\n",
        "    cdi = float(dado['taxa'].replace(',', '.')) + (random() - 0.5)"
      ],
      "metadata": {
        "colab": {
          "base_uri": "https://localhost:8080/"
        },
        "id": "RvepwwrunomR",
        "outputId": "234e5473-19d1-4d3d-b4b9-4f8e5ccdb13b"
      },
      "execution_count": 14,
      "outputs": [
        {
          "output_type": "stream",
          "name": "stdout",
          "text": [
            "An error occurred: HTTPSConnectionPool(host='www2.cetip.com.br', port=443): Max retries exceeded with url: /ConsultarTaxaDi/ConsultarTaxaDICetip.aspx (Caused by NameResolutionError(\"<urllib3.connection.HTTPSConnection object at 0x7ec7a4131c90>: Failed to resolve 'www2.cetip.com.br' ([Errno -5] No address associated with hostname)\"))\n"
          ]
        }
      ]
    },
    {
      "cell_type": "code",
      "source": [
        "# Verificando se o arquivo \"taxa-cdi.csv\" existe\n",
        "if os.path.exists('./taxa-cdi.csv') == False:\n",
        "    with open(file='./taxa-cdi.csv', mode='w', encoding='utf8') as fp:\n",
        "        fp.write('data,hora,taxa\\n')\n",
        "# Salvando dados no arquivo \"taxa-cdi.csv\"\n",
        "    with open(file='./taxa-cdi.csv', mode='a', encoding='utf8') as fp:\n",
        "        fp.write(f'{data},{hora},{cdi}\\n')\n",
        "    print(\"Sucesso\")"
      ],
      "metadata": {
        "colab": {
          "base_uri": "https://localhost:8080/"
        },
        "id": "Z1BB5yaOn6Vr",
        "outputId": "3612910c-e623-4092-df09-41ec11e1d0b1"
      },
      "execution_count": 16,
      "outputs": [
        {
          "output_type": "stream",
          "name": "stdout",
          "text": [
            "Sucesso\n"
          ]
        }
      ]
    },
    {
      "cell_type": "markdown",
      "source": [
        "### **Vamos criar o arquivo de script extrair-cdi.py**"
      ],
      "metadata": {
        "id": "_eB5mUwgoFrP"
      }
    },
    {
      "cell_type": "code",
      "source": [
        "!python extrair-cdi.py"
      ],
      "metadata": {
        "colab": {
          "base_uri": "https://localhost:8080/"
        },
        "id": "b9UIuWanoRb7",
        "outputId": "4060e491-5e65-43bb-9c34-bd38617b3d17"
      },
      "execution_count": 17,
      "outputs": [
        {
          "output_type": "stream",
          "name": "stdout",
          "text": [
            "python3: can't open file '/content/extrair-cdi.py': [Errno 2] No such file or directory\n"
          ]
        }
      ]
    },
    {
      "cell_type": "markdown",
      "source": [
        "### **Script com argumentos.**"
      ],
      "metadata": {
        "id": "Pjc5cY2OoVo1"
      }
    },
    {
      "cell_type": "code",
      "source": [
        "from sys import argv\n",
        "\n",
        "print(argv)\n",
        "print(type(argv))"
      ],
      "metadata": {
        "colab": {
          "base_uri": "https://localhost:8080/"
        },
        "id": "wJkr-UMfoX9E",
        "outputId": "b9a107ab-a3cd-4f18-e4ee-0a32c10de0a3"
      },
      "execution_count": 18,
      "outputs": [
        {
          "output_type": "stream",
          "name": "stdout",
          "text": [
            "['/usr/local/lib/python3.10/dist-packages/colab_kernel_launcher.py', '-f', '/root/.local/share/jupyter/runtime/kernel-14c53e53-7690-4312-8213-667ba8cb1808.json']\n",
            "<class 'list'>\n"
          ]
        }
      ]
    },
    {
      "cell_type": "markdown",
      "source": [
        "### **Vamos criar o arquivo de script args.py**"
      ],
      "metadata": {
        "id": "X_AlCwXHohCm"
      }
    },
    {
      "cell_type": "code",
      "source": [
        "!python args.py andre True 10 20"
      ],
      "metadata": {
        "colab": {
          "base_uri": "https://localhost:8080/"
        },
        "id": "b1mRnzWZomSj",
        "outputId": "317c956c-1c9c-4517-bbb3-3af8ffc47f2c"
      },
      "execution_count": 19,
      "outputs": [
        {
          "output_type": "stream",
          "name": "stdout",
          "text": [
            "python3: can't open file '/content/args.py': [Errno 2] No such file or directory\n"
          ]
        }
      ]
    },
    {
      "cell_type": "markdown",
      "source": [
        "### **Script para gerar um grafico da taxa CDI do site da B3.**"
      ],
      "metadata": {
        "id": "VVUwEPxTonlZ"
      }
    },
    {
      "cell_type": "code",
      "source": [
        "import csv\n",
        "from sys import argv\n",
        "import seaborn as sns"
      ],
      "metadata": {
        "id": "qCmbAncYoqUA"
      },
      "execution_count": 20,
      "outputs": []
    },
    {
      "cell_type": "code",
      "source": [
        "horas = []\n",
        "taxas = []\n",
        "with open(file='./taxa-cdi.csv', mode='r', encoding='utf8') as fp:\n",
        "    linha = fp.readline()\n",
        "    linha = fp.readline()\n",
        "    while linha:\n",
        "        linha_separada = linha.split(sep=',')\n",
        "        hora = linha_separada[1]\n",
        "        horas.append(hora)\n",
        "\n",
        "        try:\n",
        "            taxa_str = linha_separada[2].strip()\n",
        "            taxa = float(taxa_str) if taxa_str not in ('None', '') else 0.0\n",
        "        except ValueError:\n",
        "            print(f\"Skipping row with invalid taxa value: {linha_separada[2]}\")\n",
        "            linha = fp.readline()\n",
        "            continue\n",
        "        taxas.append(taxa)\n",
        "        linha = fp.readline()\n",
        "\n",
        "if horas and taxas:\n",
        "\n",
        "    grafico = sns.lineplot(x=horas, y=taxas)\n",
        "    grafico.get_figure().savefig(f\"{argv[1]}.png\")\n",
        "else:\n",
        "    print(\"Error: 'horas' or 'taxas' list is empty. Check the CSV data extraction.\")"
      ],
      "metadata": {
        "colab": {
          "base_uri": "https://localhost:8080/",
          "height": 430
        },
        "id": "z1Jth252pJTI",
        "outputId": "d5fde8dd-a191-466f-b544-ba8b33c59117"
      },
      "execution_count": 27,
      "outputs": [
        {
          "output_type": "display_data",
          "data": {
            "text/plain": [
              "<Figure size 640x480 with 1 Axes>"
            ],
            "image/png": "[encoded data removed]"
          },
          "metadata": {}
        }
      ]
    },
    {
      "cell_type": "markdown",
      "source": [
        "### **Vamos criar o arquivo de script cdi-grafico.py**"
      ],
      "metadata": {
        "id": "Yq9cMc-Ppd_k"
      }
    },
    {
      "cell_type": "code",
      "source": [
        "!python cdi-grafico.py dia-10"
      ],
      "metadata": {
        "colab": {
          "base_uri": "https://localhost:8080/"
        },
        "id": "SMOB_Gg5pg_2",
        "outputId": "20e15338-518f-40ed-ba3e-b385ca32ee6a"
      },
      "execution_count": 28,
      "outputs": [
        {
          "output_type": "stream",
          "name": "stdout",
          "text": [
            "python3: can't open file '/content/cdi-grafico.py': [Errno 2] No such file or directory\n"
          ]
        }
      ]
    },
    {
      "cell_type": "markdown",
      "source": [
        "### **Máquina local**\n",
        "### **Mesma dinâmica!**"
      ],
      "metadata": {
        "id": "ZJPfXgVcpoKB"
      }
    },
    {
      "cell_type": "markdown",
      "source": [
        "## **Instale o Python na máquina**"
      ],
      "metadata": {
        "id": "0LAXj2Bvp1YP"
      }
    },
    {
      "cell_type": "markdown",
      "source": [
        "### **Bash:** Linguagem própria do Linux. Todos os códigos possuem um ponto de exclamação no início “!”\n",
        "\n",
        "### **Scripting:** Sequência lógica de código que podemos executar repetidamente dentro e fora do Google Colab.\n",
        "\n",
        "### **Platform:** Pacote próprio do Python que traz uma série de informações sobre a plataforma que estamos trabalhando, como a versão do Python, o sistema operacional que está rodando o Python, entre outras.\n",
        "\n",
        "### **Terminal:** Linha de comando do Linux e do MacOs para abrir a linha de comandos. No windows se chama “cmd”\n",
        "\n"
      ],
      "metadata": {
        "id": "x1ILKrMyp29x"
      }
    },
    {
      "cell_type": "markdown",
      "source": [
        "## **Execute códigos Python no terminal**"
      ],
      "metadata": {
        "id": "YqNVgklrqSKS"
      }
    },
    {
      "cell_type": "markdown",
      "source": [
        "### **Quit():** Função nativa do Python para parar a execução do software do Python.\n",
        "\n",
        "### **Shift + botão direito do mouse:** Atalho do Windows para abrir o terminal dentro de uma pasta.\n",
        "\n"
      ],
      "metadata": {
        "id": "midHzexYqTSa"
      }
    },
    {
      "cell_type": "markdown",
      "source": [
        "## **Crie arquivos de script Python**"
      ],
      "metadata": {
        "id": "fcWFKT0Xqhl4"
      }
    },
    {
      "cell_type": "markdown",
      "source": [
        "### **Argumentos:** São (valores) informações que são passadas para uma função que será chamada no script.\n",
        "\n",
        "### **Path:** Módulo do pacote Os com uma função chamada “exist” que verifica se um arquivo existe.\n",
        "\n",
        "### **IDEs:** Em inglês significa Integrated Development Environment, em português chamamos de Ferramenta de Desenvolvimento Integral, que são ferramentas específicas para desenvolvimento de softwares específicos para cada tipo de linguagem. Para o Python as mais famosas são a  PyCharm e a Visual Studio Code.\n",
        "\n",
        "### **PEP:** Documento com as boas práticas de uso do Python feito pela própria comunidade. Uma das mais conhecidas é a PEP 8.\n",
        "\n",
        "### **Sns:** É como a comunidade apelida o pacote seaborn.\n",
        "\n",
        "### **Script:** Arquivo com a extensão .py com códigos Python dentro ordenados logicamente. O script consome módulos para automação, ou seja, executa tudo o que está dentro de um arquivo de uma única vez.\n",
        "\n",
        "### **Os:** Pacote de interação da biblioteca nativa do Python.\n",
        "\n"
      ],
      "metadata": {
        "id": "8CHKzsVUqkNz"
      }
    }
  ]
}