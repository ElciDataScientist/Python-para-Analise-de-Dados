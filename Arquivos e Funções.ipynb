{
  "nbformat": 4,
  "nbformat_minor": 0,
  "metadata": {
    "colab": {
      "provenance": []
    },
    "kernelspec": {
      "name": "python3",
      "display_name": "Python 3"
    },
    "language_info": {
      "name": "python"
    }
  },
  "cells": [
    {
      "cell_type": "markdown",
      "source": [
        "# Open: Comando para Ler Arquivos"
      ],
      "metadata": {
        "id": "TarYX25Du_du"
      }
    },
    {
      "cell_type": "markdown",
      "source": [
        "### with open(file='<caminho do arquivo>', mode='<modo de leitura>',\n",
        "\n",
        "### encoding='<decodificador>') as <apelido>: bloco de código"
      ],
      "metadata": {
        "id": "GzUqWfTHvM-_"
      }
    },
    {
      "cell_type": "markdown",
      "source": [
        "### Dados:"
      ],
      "metadata": {
        "id": "cw1l-ts_wwlQ"
      }
    },
    {
      "cell_type": "code",
      "source": [
        "%%writefile banco.csv\n",
        " age,job,marital,education,default,balance,housing,loan 30,unemployed,married,primary,no,1787,no,no 33,services,married,secondary,no,4789,yes,yes 35,management,single,tertiary,no,1350,yes,no 30,management,married,tertiary,no,1476,yes,yes 59,blue-collar,married,secondary,no,0,yes,no 35,management,single,tertiary,no,747,no,no 36,self-employed,married,tertiary,no,307,yes,no 39,technician,married,secondary,no,147,yes,no 41,entrepreneur,married,tertiary,no,221,yes,no 43,services,married,primary,no,-88,yes,yes"
      ],
      "metadata": {
        "colab": {
          "base_uri": "https://localhost:8080/"
        },
        "id": "_xvHyLRZweXV",
        "outputId": "35ddf11d-607e-456b-bb23-7e20e6531e90"
      },
      "execution_count": 3,
      "outputs": [
        {
          "output_type": "stream",
          "name": "stdout",
          "text": [
            "Writing banco.csv\n"
          ]
        }
      ]
    },
    {
      "cell_type": "code",
      "source": [
        "conteudo = None\n",
        "\n",
        "with open(file='./banco.csv', mode='r', encoding='utf8') as arquivo: conteudo = arquivo.read()\n",
        "\n",
        "print(conteudo)"
      ],
      "metadata": {
        "colab": {
          "base_uri": "https://localhost:8080/"
        },
        "id": "SVc-p1SAvbjN",
        "outputId": "318a0341-d75d-4cd9-c4db-1819e14abf14"
      },
      "execution_count": 4,
      "outputs": [
        {
          "output_type": "stream",
          "name": "stdout",
          "text": [
            " age,job,marital,education,default,balance,housing,loan 30,unemployed,married,primary,no,1787,no,no 33,services,married,secondary,no,4789,yes,yes 35,management,single,tertiary,no,1350,yes,no 30,management,married,tertiary,no,1476,yes,yes 59,blue-collar,married,secondary,no,0,yes,no 35,management,single,tertiary,no,747,no,no 36,self-employed,married,tertiary,no,307,yes,no 39,technician,married,secondary,no,147,yes,no 41,entrepreneur,married,tertiary,no,221,yes,no 43,services,married,primary,no,-88,yes,yes\n",
            "\n"
          ]
        }
      ]
    },
    {
      "cell_type": "markdown",
      "source": [],
      "metadata": {
        "id": "idycpWWIwsyX"
      }
    },
    {
      "cell_type": "markdown",
      "source": [
        "### Comando para ler o conteúdo de um arquivo uma linha por vez."
      ],
      "metadata": {
        "id": "HNt5NVwbw2nQ"
      }
    },
    {
      "cell_type": "code",
      "source": [
        "conteudo = []\n",
        "\n",
        "with open(file='./banco.csv', mode='r', encoding='utf8') as arquivo:\n",
        "   linha = arquivo.readline()\n",
        "   while linha:\n",
        "    conteudo.append(linha)\n",
        "    linha = arquivo.readline()\n",
        "\n",
        "print(conteudo)"
      ],
      "metadata": {
        "colab": {
          "base_uri": "https://localhost:8080/"
        },
        "id": "vvEbaq6Rw6gp",
        "outputId": "bd645413-ded5-4c80-de3e-05964b768e60"
      },
      "execution_count": 5,
      "outputs": [
        {
          "output_type": "stream",
          "name": "stdout",
          "text": [
            "[' age,job,marital,education,default,balance,housing,loan 30,unemployed,married,primary,no,1787,no,no 33,services,married,secondary,no,4789,yes,yes 35,management,single,tertiary,no,1350,yes,no 30,management,married,tertiary,no,1476,yes,yes 59,blue-collar,married,secondary,no,0,yes,no 35,management,single,tertiary,no,747,no,no 36,self-employed,married,tertiary,no,307,yes,no 39,technician,married,secondary,no,147,yes,no 41,entrepreneur,married,tertiary,no,221,yes,no 43,services,married,primary,no,-88,yes,yes\\n']\n"
          ]
        }
      ]
    },
    {
      "cell_type": "code",
      "source": [
        "for linha in conteudo:\n",
        "  print(linha)"
      ],
      "metadata": {
        "colab": {
          "base_uri": "https://localhost:8080/"
        },
        "id": "tCAzb2L6xovd",
        "outputId": "daacde1f-c660-4ce1-eea2-879487014bf1"
      },
      "execution_count": 6,
      "outputs": [
        {
          "output_type": "stream",
          "name": "stdout",
          "text": [
            " age,job,marital,education,default,balance,housing,loan 30,unemployed,married,primary,no,1787,no,no 33,services,married,secondary,no,4789,yes,yes 35,management,single,tertiary,no,1350,yes,no 30,management,married,tertiary,no,1476,yes,yes 59,blue-collar,married,secondary,no,0,yes,no 35,management,single,tertiary,no,747,no,no 36,self-employed,married,tertiary,no,307,yes,no 39,technician,married,secondary,no,147,yes,no 41,entrepreneur,married,tertiary,no,221,yes,no 43,services,married,primary,no,-88,yes,yes\n",
            "\n"
          ]
        }
      ]
    },
    {
      "cell_type": "markdown",
      "source": [
        "### Extraindo os valores da primeira coluna (idade)."
      ],
      "metadata": {
        "id": "pEc_QHuMxmnP"
      }
    },
    {
      "cell_type": "code",
      "source": [
        "idades = []\n",
        "\n",
        "with open(file='./banco.csv', mode='r', encoding='utf8') as arquivo:\n",
        "  linha = arquivo.readline()\n",
        "  linha = arquivo.readline()\n",
        "  while linha:\n",
        "    linha_separada = linha.split(sep=',')\n",
        "    idade = linha_separada[0]\n",
        "    idades.append(idade)\n",
        "    linha = arquivo.readline()\n",
        "\n",
        "print(idades)"
      ],
      "metadata": {
        "colab": {
          "base_uri": "https://localhost:8080/"
        },
        "id": "kV5ycrTxxz0h",
        "outputId": "d96a5ca8-bb0b-4df6-8373-add1c5f94a25"
      },
      "execution_count": 7,
      "outputs": [
        {
          "output_type": "stream",
          "name": "stdout",
          "text": [
            "[]\n"
          ]
        }
      ]
    },
    {
      "cell_type": "markdown",
      "source": [
        "### Comando para escrever em um arquivo, se o arquivo não existir, ele será criado.\n",
        "### **Modo de escrita (w):**"
      ],
      "metadata": {
        "id": "CuPBiAe-yRqs"
      }
    },
    {
      "cell_type": "code",
      "source": [
        "with open(file='idades.csv', mode='w', encoding='utf8') as fp:\n",
        "  linha = 'idade' + '\\n'\n",
        "  fp.write(linha)\n",
        "for idade in idades:\n",
        "  linha = str(idade) + '\\n'\n",
        "  fp.write(linha)"
      ],
      "metadata": {
        "id": "IYpD8zBayS4Q"
      },
      "execution_count": 9,
      "outputs": []
    },
    {
      "cell_type": "markdown",
      "source": [
        "### **Modo de acréscimo:**"
      ],
      "metadata": {
        "id": "kfciKFyQyzRD"
      }
    },
    {
      "cell_type": "code",
      "source": [
        "with open(file='idades.csv', mode='a', encoding='utf8') as fp:\n",
        "  for idade in idades:\n",
        "    linha = str(idade + 100) + '\\n'\n",
        "    fp.write(linha)"
      ],
      "metadata": {
        "id": "SQUhZwddy2SI"
      },
      "execution_count": 10,
      "outputs": []
    },
    {
      "cell_type": "markdown",
      "source": [
        "### **Copiando um arquivo com uma extensão diferente.**"
      ],
      "metadata": {
        "id": "hAYKFZq5y_gY"
      }
    },
    {
      "cell_type": "code",
      "source": [
        "%%writefile banco-texto.txt\n",
        "age,job,marital,education,default,balance,housing,loan 30,unemployed,married,primary,no,1787,no,no 33,services,married,secondary,no,4789,yes,yes 35,management,single,tertiary,no,1350,yes,no 30,management,married,tertiary,no,1476,yes,yes 59,blue-collar,married,secondary,no,0,yes,no 35,management,single,tertiary,no,747,no,no 36,self-employed,married,tertiary,no,307,yes,no 39,technician,married,secondary,no,147,yes,no 41,entrepreneur,married,tertiary,no,221,yes,no 43,services,married,primary,no,-88,yes,yes"
      ],
      "metadata": {
        "colab": {
          "base_uri": "https://localhost:8080/"
        },
        "id": "VBInoWqizFa3",
        "outputId": "a8225db9-e7ca-41c1-a193-934f0751fed9"
      },
      "execution_count": 11,
      "outputs": [
        {
          "output_type": "stream",
          "name": "stdout",
          "text": [
            "Writing banco-texto.txt\n"
          ]
        }
      ]
    },
    {
      "cell_type": "code",
      "source": [
        "with open(file='./banco-texto.txt', mode='r', encoding='utf8') as leitura:\n",
        "  with open(file='./banco-csv.csv', mode='w', encoding='utf8') as escrita:\n",
        "    linha = leitura.readline()\n",
        "    while linha:\n",
        "\n",
        "      escrita.write(linha)\n",
        "      linha = leitura.readline()"
      ],
      "metadata": {
        "id": "rZq_ze6dzuEo"
      },
      "execution_count": 15,
      "outputs": []
    },
    {
      "cell_type": "markdown",
      "source": [
        "### **Você trabalha na bolsa de valores e precisa simular o retorno de um investimento para diversos cenários:**"
      ],
      "metadata": {
        "id": "981bfp8uz_ZY"
      }
    },
    {
      "cell_type": "code",
      "source": [
        "valor_inicial, taxa_juros_anual, anos = 1000.00, 0.05, 10\n",
        "\n",
        "valor_final = valor_inicial\n",
        "for ano in range(1, anos+1):\n",
        "  valor_final = valor_final * (1 + taxa_juros_anual)\n",
        "valor_final = round(valor_final, 2)\n",
        "print(f'Para um valor inicial de R$ {valor_inicial} ' + \\\n",
        "      f'e uma taxa de juros anual de {taxa_juros_anual}, ' + \\\n",
        "      f'em {anos} anos você terá R$ {valor_final}' )"
      ],
      "metadata": {
        "colab": {
          "base_uri": "https://localhost:8080/"
        },
        "id": "giiY7kzS0Cna",
        "outputId": "f5ff8f70-02ec-413d-fb43-962de44aa494"
      },
      "execution_count": 17,
      "outputs": [
        {
          "output_type": "stream",
          "name": "stdout",
          "text": [
            "Para um valor inicial de R$ 1000.0 e uma taxa de juros anual de 0.05, em 10 anos você terá R$ 1628.89\n"
          ]
        }
      ]
    },
    {
      "cell_type": "markdown",
      "source": [
        "### Como podemos fazer para reaproveitar o código e evitar repetições?"
      ],
      "metadata": {
        "id": "mWloycjc0n3a"
      }
    },
    {
      "cell_type": "code",
      "source": [
        "valor_inicial, taxa_juros_anual, anos = 1020.00, 0.03, 10\n",
        "valor_final = valor_inicial\n",
        "\n",
        "for ano in range(1, anos+1):\n",
        "  valor_final = valor_final * (1 + taxa_juros_anual)\n",
        "  valor_final = round(valor_final, 2)\n",
        "  print(f'Para um valor inicial de R$ {valor_inicial} ' + \\\n",
        "        f'e uma taxa de juros anual de {taxa_juros_anual}, ' + \\\n",
        "        f'em {anos} anos você terá R$ {valor_final}' )"
      ],
      "metadata": {
        "colab": {
          "base_uri": "https://localhost:8080/"
        },
        "id": "P6GdCErL0pzq",
        "outputId": "3cc4d239-2532-40cc-fc44-b2b349ef869c"
      },
      "execution_count": 20,
      "outputs": [
        {
          "output_type": "stream",
          "name": "stdout",
          "text": [
            "Para um valor inicial de R$ 1020.0 e uma taxa de juros anual de 0.03, em 10 anos você terá R$ 1050.6\n",
            "Para um valor inicial de R$ 1020.0 e uma taxa de juros anual de 0.03, em 10 anos você terá R$ 1082.12\n",
            "Para um valor inicial de R$ 1020.0 e uma taxa de juros anual de 0.03, em 10 anos você terá R$ 1114.58\n",
            "Para um valor inicial de R$ 1020.0 e uma taxa de juros anual de 0.03, em 10 anos você terá R$ 1148.02\n",
            "Para um valor inicial de R$ 1020.0 e uma taxa de juros anual de 0.03, em 10 anos você terá R$ 1182.46\n",
            "Para um valor inicial de R$ 1020.0 e uma taxa de juros anual de 0.03, em 10 anos você terá R$ 1217.93\n",
            "Para um valor inicial de R$ 1020.0 e uma taxa de juros anual de 0.03, em 10 anos você terá R$ 1254.47\n",
            "Para um valor inicial de R$ 1020.0 e uma taxa de juros anual de 0.03, em 10 anos você terá R$ 1292.1\n",
            "Para um valor inicial de R$ 1020.0 e uma taxa de juros anual de 0.03, em 10 anos você terá R$ 1330.86\n",
            "Para um valor inicial de R$ 1020.0 e uma taxa de juros anual de 0.03, em 10 anos você terá R$ 1370.79\n"
          ]
        }
      ]
    },
    {
      "cell_type": "markdown",
      "source": [
        "### **Um bloco de código que só executado quando chamado:**"
      ],
      "metadata": {
        "id": "U_HnfsC_1GGh"
      }
    },
    {
      "cell_type": "markdown",
      "source": [
        "**def <nome>(<param 1>, <param 2>, ...): bloco de código return <valor de**\n",
        "\n",
        "**retorno> var = <nome da funcao>(<param 1>, <param 2>, ...)**"
      ],
      "metadata": {
        "id": "TiG4lSGK1L9v"
      }
    },
    {
      "cell_type": "markdown",
      "source": [
        "### Toda função retorna pelo menos um valor, se não especificado, retorna o valor nulo."
      ],
      "metadata": {
        "id": "3_96xKD51WV7"
      }
    },
    {
      "cell_type": "code",
      "source": [
        "def maiusculo(texto: str)-> str:\n",
        "  text_maiusculo = texto.upper()\n",
        "  return text_maiusculo"
      ],
      "metadata": {
        "id": "zUfVS9-L1g5Y"
      },
      "execution_count": 21,
      "outputs": []
    },
    {
      "cell_type": "code",
      "source": [
        "nome = 'André Paz'\n",
        "print(nome)\n",
        "\n",
        "nome_maiusculo = maiusculo(texto=nome)\n",
        "print(nome_maiusculo)"
      ],
      "metadata": {
        "colab": {
          "base_uri": "https://localhost:8080/"
        },
        "id": "CRGig0tF1mwj",
        "outputId": "f9b828ca-6eaa-4198-b6e5-fba15eadd3ba"
      },
      "execution_count": 23,
      "outputs": [
        {
          "output_type": "stream",
          "name": "stdout",
          "text": [
            "André Paz\n",
            "ANDRÉ PAZ\n"
          ]
        }
      ]
    },
    {
      "cell_type": "code",
      "source": [
        "def extrair_usuario_email_provedor(email: str) -> (str, str):\n",
        "    email_separado = email.split(sep='@')\n",
        "    usuario = email_separado[0]\n",
        "    provedor = email_separado[1]\n",
        "    return usuario, provedor"
      ],
      "metadata": {
        "id": "2a2X6FqA2KdI"
      },
      "execution_count": 25,
      "outputs": []
    },
    {
      "cell_type": "code",
      "source": [
        "email = 'andre.paz@gmail.com'\n",
        "usuario, provedor = extrair_usuario_email_provedor(email=email)\n",
        "print(usuario)\n",
        "print(provedor)"
      ],
      "metadata": {
        "colab": {
          "base_uri": "https://localhost:8080/"
        },
        "id": "sE5RizOA2PCD",
        "outputId": "3a72016d-ca98-434f-a565-6b2accd3603a"
      },
      "execution_count": 26,
      "outputs": [
        {
          "output_type": "stream",
          "name": "stdout",
          "text": [
            "andre.paz\n",
            "gmail.com\n"
          ]
        }
      ]
    },
    {
      "cell_type": "markdown",
      "source": [],
      "metadata": {
        "id": "AREoA0Dm_jZW"
      }
    },
    {
      "cell_type": "markdown",
      "source": [
        "### Parâmetros são os valores que a passamos na chamada da função.\n",
        "### **Função sem parâmetro:**"
      ],
      "metadata": {
        "id": "39owm0nY2acU"
      }
    },
    {
      "cell_type": "code",
      "source": [
        "def pi()-> float:\n",
        "  return 3.14159265359"
      ],
      "metadata": {
        "id": "prryg1vN2o9y"
      },
      "execution_count": 27,
      "outputs": []
    },
    {
      "cell_type": "code",
      "source": [
        "pi = pi()\n",
        "print(pi)"
      ],
      "metadata": {
        "colab": {
          "base_uri": "https://localhost:8080/"
        },
        "id": "ouE2lOct24Hp",
        "outputId": "bf9ad963-5b18-44d8-badd-2e96eda38bbf"
      },
      "execution_count": 28,
      "outputs": [
        {
          "output_type": "stream",
          "name": "stdout",
          "text": [
            "3.14159265359\n"
          ]
        }
      ]
    },
    {
      "cell_type": "code",
      "source": [
        "def imprime_pi()-> None:\n",
        "  print(3.14159265359)\n",
        "  return None"
      ],
      "metadata": {
        "id": "wURcdajr2648"
      },
      "execution_count": 29,
      "outputs": []
    },
    {
      "cell_type": "code",
      "source": [
        "imprime_pi()"
      ],
      "metadata": {
        "colab": {
          "base_uri": "https://localhost:8080/"
        },
        "id": "2oS2yyIE2-7N",
        "outputId": "76d8896e-7647-489a-dde5-27933beb9486"
      },
      "execution_count": 30,
      "outputs": [
        {
          "output_type": "stream",
          "name": "stdout",
          "text": [
            "3.14159265359\n"
          ]
        }
      ]
    },
    {
      "cell_type": "markdown",
      "source": [
        "### **Função com parâmetro:**"
      ],
      "metadata": {
        "id": "c7jrL8Ka3ELi"
      }
    },
    {
      "cell_type": "code",
      "source": [
        "def escreve_arquivo_csv(nome: str, cabecalho: str, conteudos: list)-> bool:\n",
        "\n",
        "  try:\n",
        "\n",
        "    with open(file=nome, mode='w', encoding='utf8') as fp:\n",
        "      linha = cabecalho + '\\n'\n",
        "      fp.write(linha)\n",
        "    for conteudo in conteudos:\n",
        "      linha = str(conteudo) + '\\n'\n",
        "      fp.write(linha)\n",
        "\n",
        "  except Exception as exc:\n",
        "    print(exc)\n",
        "    return False\n",
        "  return True"
      ],
      "metadata": {
        "id": "bbkqxFZb3FjJ"
      },
      "execution_count": 32,
      "outputs": []
    },
    {
      "cell_type": "code",
      "source": [
        "nome = 'idades-funcao-erro.csv'\n",
        "cabecalho = 'idade'\n",
        "conteudos = 10\n",
        "\n",
        "escreveu_com_sucesso = escreve_arquivo_csv(\n",
        "    nome=nome,\n",
        "    cabecalho=cabecalho,\n",
        "    conteudos=conteudos )\n",
        "print(escreveu_com_sucesso)"
      ],
      "metadata": {
        "colab": {
          "base_uri": "https://localhost:8080/"
        },
        "id": "CJNHyhqj3xIA",
        "outputId": "bb0bfaac-4ec1-465f-ffea-3d8b1ba2205e"
      },
      "execution_count": 33,
      "outputs": [
        {
          "output_type": "stream",
          "name": "stdout",
          "text": [
            "'int' object is not iterable\n",
            "False\n"
          ]
        }
      ]
    },
    {
      "cell_type": "markdown",
      "source": [
        "### **Revisão:**"
      ],
      "metadata": {
        "id": "w1oEpK3V4SXL"
      }
    },
    {
      "cell_type": "code",
      "source": [
        "def juros_compostos_anual(\n",
        "    valor_inicial: float,\n",
        "    taxa_juros_anual: float,\n",
        "    anos: int\n",
        ")-> float:\n",
        "  valor_final = valor_inicial\n",
        "  for ano in range(1, anos+1):\n",
        "    valor_final = valor_final * (1 + taxa_juros_anual)\n",
        "    valor_final = round(valor_final, 2)\n",
        "    print(f'Para um valor inicial de R$ {valor_inicial} ' +\n",
        "          f'e uma taxa de juros anual de {taxa_juros_anual}, ' +\n",
        "          f'em {anos} anos você terá R$ {valor_final}' )\n",
        "    return valor_final\n",
        "\n",
        "valor_inicial, taxa_juros_anual, anos = 1000.00, 0.05, 10\n",
        "valor_final = juros_compostos_anual(\n",
        "    valor_inicial=valor_inicial,\n",
        "    taxa_juros_anual=taxa_juros_anual,\n",
        "    anos=anos )"
      ],
      "metadata": {
        "colab": {
          "base_uri": "https://localhost:8080/"
        },
        "id": "przu6KQB4VsF",
        "outputId": "6f5f47ba-d0e7-45bb-fa30-0e00297d1046"
      },
      "execution_count": 35,
      "outputs": [
        {
          "output_type": "stream",
          "name": "stdout",
          "text": [
            "Para um valor inicial de R$ 1000.0 e uma taxa de juros anual de 0.05, em 10 anos você terá R$ 1050.0\n"
          ]
        }
      ]
    },
    {
      "cell_type": "code",
      "source": [
        "valor_inicial, taxa_juros_anual, anos = 1020.00, 0.03, 10\n",
        "valor_final = juros_compostos_anual(\n",
        "    valor_inicial=valor_inicial,\n",
        "    taxa_juros_anual=taxa_juros_anual,\n",
        "    anos=anos )"
      ],
      "metadata": {
        "colab": {
          "base_uri": "https://localhost:8080/"
        },
        "id": "Qq-i5i-Y5pP1",
        "outputId": "8506d47e-c1f5-4202-8e97-bb70d2947e32"
      },
      "execution_count": 36,
      "outputs": [
        {
          "output_type": "stream",
          "name": "stdout",
          "text": [
            "Para um valor inicial de R$ 1020.0 e uma taxa de juros anual de 0.03, em 10 anos você terá R$ 1050.6\n"
          ]
        }
      ]
    },
    {
      "cell_type": "markdown",
      "source": [
        "### Define o ciclo de vida de uma variável.\n",
        "### **Escopo de função:**"
      ],
      "metadata": {
        "id": "NnTRqvsW56XZ"
      }
    },
    {
      "cell_type": "code",
      "source": [
        "def soma_lista(numeros: list)-> int:\n",
        "  s = 0\n",
        "  for numero in numeros:\n",
        "    s = s + numero\n",
        "    return s"
      ],
      "metadata": {
        "id": "OhFFOWmK5-ad"
      },
      "execution_count": 40,
      "outputs": []
    },
    {
      "cell_type": "code",
      "source": [
        "soma = soma_lista(numeros=[2] * 20)\n",
        "print(soma)"
      ],
      "metadata": {
        "colab": {
          "base_uri": "https://localhost:8080/"
        },
        "id": "cWKRUzep6MdN",
        "outputId": "5b6122a4-93c4-442d-e299-ac971a7aec66"
      },
      "execution_count": 41,
      "outputs": [
        {
          "output_type": "stream",
          "name": "stdout",
          "text": [
            "2\n"
          ]
        }
      ]
    },
    {
      "cell_type": "markdown",
      "source": [
        "### **Escopo de estrutura condicional / repetição.**"
      ],
      "metadata": {
        "id": "xEuPdJZ36iq0"
      }
    },
    {
      "cell_type": "code",
      "source": [
        "if True:\n",
        "  x = 100\n",
        "else:\n",
        "  w = 50\n",
        "print(x)"
      ],
      "metadata": {
        "colab": {
          "base_uri": "https://localhost:8080/"
        },
        "id": "c_8KgWVN6kG7",
        "outputId": "741ddbe7-eae6-4bd6-a20d-f55a653c2743"
      },
      "execution_count": 45,
      "outputs": [
        {
          "output_type": "stream",
          "name": "stdout",
          "text": [
            "100\n"
          ]
        }
      ]
    },
    {
      "cell_type": "markdown",
      "source": [],
      "metadata": {
        "id": "-3ASAbzH_fnD"
      }
    },
    {
      "cell_type": "markdown",
      "source": [
        "## **Leia arquivos**\n"
      ],
      "metadata": {
        "id": "5n0fRtaj7Qom"
      }
    },
    {
      "cell_type": "markdown",
      "source": [
        "### **Arquivo (file):** Uma entidade nomeada, usualmente armazenada em um disco rígido (HD), disquete ou CDROM, que contém uma sequência de caracteres.\n",
        "\n",
        "### **Apelido:** Múltiplas variáveis que contém referências ao mesmo objeto.\n",
        "\n",
        "### **Append:** Modo de acréscimo de informações ao final do arquivo. Não sobrescreve nenhuma informação.\n",
        "\n",
        "### **Arquivo cvs:** CSV é um formato de arquivo que significa “comma-separated-values” (valores separados por vírgulas), isto é, os campos de dados são separados por uma vírgula.\n",
        "\n",
        "### **Caminho:** Uma sequência de nomes de diretórios que especifica a exata localização de um arquivo.\n",
        "\n",
        "### **Diretório:** Uma coleção nomeada de arquivos, também chamado de pasta ou folder.\n",
        "\n",
        "### **Encoding:** Se refere ao código a partir dos quais os caracteres devem ser interpretados.\n",
        "\n",
        "### **Read:** O método read lê dados do arquivo. Sem argumentos, ele lê todo o conteúdo do arquivo.\n",
        "\n",
        "### **Readline:** O método readline lê todos os caracteres até, e incluindo, o próximo caractere de nova linha.\n",
        "\n",
        "### **Split:** O método split() divide uma string em uma lista.\n"
      ],
      "metadata": {
        "id": "-5jOFQq27kiP"
      }
    },
    {
      "cell_type": "markdown",
      "source": [
        "## **Escreva arquivos**"
      ],
      "metadata": {
        "id": "U5omEbvj9GCE"
      }
    },
    {
      "cell_type": "markdown",
      "source": [
        "### **Functional programming (fp):** É um paradigma de programação onde os programas são construídos aplicando e compondo funções.\n",
        "\n",
        "### **Laço de repetição:** Os laços de repetição são estruturas de controle do programa usadas para repetir a execução de um bloco de código enquanto uma condição for verdadeira.\n",
        "\n",
        "### **Modo “w”:** Modo “w” significa que estamos abrindo o arquivo para gravação.\n",
        "\n",
        "### **Write:** O método write() retorna o número de caracteres escritos.\n",
        "\n",
        "\n"
      ],
      "metadata": {
        "id": "NQdf7E9_9MKk"
      }
    },
    {
      "cell_type": "markdown",
      "source": [
        "## **Aprendaas funções**"
      ],
      "metadata": {
        "id": "2zMEpn5B-OFS"
      }
    },
    {
      "cell_type": "markdown",
      "source": [
        "### **Assinatura da função:** É o nome de uma função junto com o tipo de dados que retorna.\n",
        "\n",
        "### **Chamada de função:** Comando que executa uma função. Consiste do nome da função seguido de uma lista de argumentos entre parênteses.\n",
        "\n",
        "### **Definição de função:** Comando que cria uma nova função, especificando seu nome, parâmetros e comandos que ela executa.\n",
        "\n",
        "### **Desempacotamento (unpacking):** Atribuir valores em um objeto iterável a uma tupla ou lista de variáveis para uso posterior.\n",
        "\n",
        "### **Função:** Sequência de comandos nomeada, que realiza alguma tarefa útil. As funções podem ou não receber parâmetros e podem ou não retornar valores.\n",
        "\n",
        "### **Parâmetro:** Nome usado numa função para referir-se a um valor passado como argumento.\n",
        "\n",
        "### **Valor de retorno:** O resultado da função. Se uma chamada de função é usada como expressão, o valor de retorno é o valor da expressão.\n",
        "\n"
      ],
      "metadata": {
        "id": "Z0tAtK3L-QUC"
      }
    },
    {
      "cell_type": "markdown",
      "source": [],
      "metadata": {
        "id": "ymSg01xj_dWI"
      }
    }
  ]
}