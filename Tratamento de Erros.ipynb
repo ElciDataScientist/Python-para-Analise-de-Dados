{
  "nbformat": 4,
  "nbformat_minor": 0,
  "metadata": {
    "colab": {
      "provenance": []
    },
    "kernelspec": {
      "name": "python3",
      "display_name": "Python 3"
    },
    "language_info": {
      "name": "python"
    }
  },
  "cells": [
    {
      "cell_type": "markdown",
      "source": [
        "### **Erros de sintaxe**\n",
        "\n",
        "### **Erros que ocorrem durante a escrita do código.**"
      ],
      "metadata": {
        "id": "u_wMWG-uYVzR"
      }
    },
    {
      "cell_type": "code",
      "execution_count": 2,
      "metadata": {
        "colab": {
          "base_uri": "https://localhost:8080/"
        },
        "id": "gSwCFFB1YMZU",
        "outputId": "0d506c6a-6cf7-407f-ea43-28114cf9dacc"
      },
      "outputs": [
        {
          "output_type": "stream",
          "name": "stdout",
          "text": [
            "True\n"
          ]
        }
      ],
      "source": [
        "pessoa = {'nome':'Andre Perez', 'idade': 19}\n",
        "\n",
        "if pessoa['idade'] > 18:\n",
        "  print(True)"
      ]
    },
    {
      "cell_type": "markdown",
      "source": [
        "### **Erros de uso incorreto de tipos de dados:**"
      ],
      "metadata": {
        "id": "nr_Pd1irYmwg"
      }
    },
    {
      "cell_type": "code",
      "source": [
        "print(1 + 'Andre')"
      ],
      "metadata": {
        "colab": {
          "base_uri": "https://localhost:8080/",
          "height": 141
        },
        "id": "pwOYec0MYoAa",
        "outputId": "6ad4bc0e-af5c-4fd6-ef28-e5b9b0f4d145"
      },
      "execution_count": 3,
      "outputs": [
        {
          "output_type": "error",
          "ename": "TypeError",
          "evalue": "unsupported operand type(s) for +: 'int' and 'str'",
          "traceback": [
            "\u001b[0;31m---------------------------------------------------------------------------\u001b[0m",
            "\u001b[0;31mTypeError\u001b[0m                                 Traceback (most recent call last)",
            "\u001b[0;32m<ipython-input-3-d0062a813d66>\u001b[0m in \u001b[0;36m<cell line: 1>\u001b[0;34m()\u001b[0m\n\u001b[0;32m----> 1\u001b[0;31m \u001b[0mprint\u001b[0m\u001b[0;34m(\u001b[0m\u001b[0;36m1\u001b[0m \u001b[0;34m+\u001b[0m \u001b[0;34m'Andre'\u001b[0m\u001b[0;34m)\u001b[0m\u001b[0;34m\u001b[0m\u001b[0;34m\u001b[0m\u001b[0m\n\u001b[0m",
            "\u001b[0;31mTypeError\u001b[0m: unsupported operand type(s) for +: 'int' and 'str'"
          ]
        }
      ]
    },
    {
      "cell_type": "markdown",
      "source": [
        "### **Erros de lógica:**"
      ],
      "metadata": {
        "id": "uC83VC5DYsFe"
      }
    },
    {
      "cell_type": "code",
      "source": [
        "i = 0\n",
        "while True:\n",
        "  ... # bloco de código\n",
        "  i = 1\n",
        "  i + 1\n",
        "  if i > 10:\n",
        "    break\n",
        "\n",
        "    print(i)"
      ],
      "metadata": {
        "colab": {
          "base_uri": "https://localhost:8080/",
          "height": 210
        },
        "id": "luULLT87Yu86",
        "outputId": "ff1d3295-69db-4ec2-df24-531b80530e9c"
      },
      "execution_count": 4,
      "outputs": [
        {
          "output_type": "error",
          "ename": "KeyboardInterrupt",
          "evalue": "",
          "traceback": [
            "\u001b[0;31m---------------------------------------------------------------------------\u001b[0m",
            "\u001b[0;31mKeyboardInterrupt\u001b[0m                         Traceback (most recent call last)",
            "\u001b[0;32m<ipython-input-4-a4eb1c0d2663>\u001b[0m in \u001b[0;36m<cell line: 2>\u001b[0;34m()\u001b[0m\n\u001b[1;32m      4\u001b[0m   \u001b[0mi\u001b[0m \u001b[0;34m=\u001b[0m \u001b[0;36m1\u001b[0m\u001b[0;34m\u001b[0m\u001b[0;34m\u001b[0m\u001b[0m\n\u001b[1;32m      5\u001b[0m   \u001b[0mi\u001b[0m \u001b[0;34m+\u001b[0m \u001b[0;36m1\u001b[0m\u001b[0;34m\u001b[0m\u001b[0;34m\u001b[0m\u001b[0m\n\u001b[0;32m----> 6\u001b[0;31m   \u001b[0;32mif\u001b[0m \u001b[0mi\u001b[0m \u001b[0;34m>\u001b[0m \u001b[0;36m10\u001b[0m\u001b[0;34m:\u001b[0m\u001b[0;34m\u001b[0m\u001b[0;34m\u001b[0m\u001b[0m\n\u001b[0m\u001b[1;32m      7\u001b[0m     \u001b[0;32mbreak\u001b[0m\u001b[0;34m\u001b[0m\u001b[0;34m\u001b[0m\u001b[0m\n\u001b[1;32m      8\u001b[0m \u001b[0;34m\u001b[0m\u001b[0m\n",
            "\u001b[0;31mKeyboardInterrupt\u001b[0m: "
          ]
        }
      ]
    },
    {
      "cell_type": "markdown",
      "source": [
        "### **São erros que ocorrem durante a escrita do código. O trecho do código não é executado.**"
      ],
      "metadata": {
        "id": "x3UVfFPOZM8L"
      }
    },
    {
      "cell_type": "code",
      "source": [
        "carrinho_compras = [\n",
        "    {'id': 3184, 'preco': 37.65, 'qtd': 10},\n",
        "    {'id': 1203, 'preco': 81.20, 'qtd': 2},\n",
        "    {'id': 8921, 'preco': 15.90, 'qtd': 2}\n",
        "]"
      ],
      "metadata": {
        "id": "x7o3M2WZZOVP"
      },
      "execution_count": 5,
      "outputs": []
    },
    {
      "cell_type": "markdown",
      "source": [
        "### **Esquecer o 'dois pontos' : no final de estruturas de condição, repetição, etc.**"
      ],
      "metadata": {
        "id": "NJdjcFvhZeqL"
      }
    },
    {
      "cell_type": "code",
      "source": [
        "for produto in carrinho_compras:"
      ],
      "metadata": {
        "colab": {
          "base_uri": "https://localhost:8080/",
          "height": 106
        },
        "id": "izsZETHlZgGi",
        "outputId": "88500aaf-206a-4c1b-bd15-38cded8b6d93"
      },
      "execution_count": 6,
      "outputs": [
        {
          "output_type": "error",
          "ename": "SyntaxError",
          "evalue": "incomplete input (<ipython-input-6-90021d673180>, line 1)",
          "traceback": [
            "\u001b[0;36m  File \u001b[0;32m\"<ipython-input-6-90021d673180>\"\u001b[0;36m, line \u001b[0;32m1\u001b[0m\n\u001b[0;31m    for produto in carrinho_compras:\u001b[0m\n\u001b[0m                                    ^\u001b[0m\n\u001b[0;31mSyntaxError\u001b[0m\u001b[0;31m:\u001b[0m incomplete input\n"
          ]
        }
      ]
    },
    {
      "cell_type": "markdown",
      "source": [
        "### **Condição lógica no else da estrutura de decisão if-else-elif**"
      ],
      "metadata": {
        "id": "8qb2rKLEZmFU"
      }
    },
    {
      "cell_type": "code",
      "source": [
        "for produto in carrinho_compras:\n",
        "  if produto['id'] == 3184:\n",
        "    ...\n",
        "    elif produto['id'] == 1203:\n",
        "      ..."
      ],
      "metadata": {
        "colab": {
          "base_uri": "https://localhost:8080/",
          "height": 106
        },
        "id": "83JBlqgYZqta",
        "outputId": "c6effff4-0941-4057-cb7e-f2b5d95679ef"
      },
      "execution_count": 7,
      "outputs": [
        {
          "output_type": "error",
          "ename": "SyntaxError",
          "evalue": "invalid syntax (<ipython-input-7-e358383b190d>, line 4)",
          "traceback": [
            "\u001b[0;36m  File \u001b[0;32m\"<ipython-input-7-e358383b190d>\"\u001b[0;36m, line \u001b[0;32m4\u001b[0m\n\u001b[0;31m    elif produto['id'] == 1203:\u001b[0m\n\u001b[0m    ^\u001b[0m\n\u001b[0;31mSyntaxError\u001b[0m\u001b[0;31m:\u001b[0m invalid syntax\n"
          ]
        }
      ]
    },
    {
      "cell_type": "markdown",
      "source": [
        "### Você trabalha como analista de dados em uma empresa de telecomunicações e precisa fazer uma análise para o time de vendas do quanto a empresa vai receber este mês. Você recebe os dados do time de engenharia diariamente:"
      ],
      "metadata": {
        "id": "gMT3bcYNaM60"
      }
    },
    {
      "cell_type": "code",
      "source": [
        "%%writefile telecom.csv\n",
        "customerID,PaymentMethod,MonthlyCharges,TotalCharges,Churn 7010-BRBUU,Credit card (automatic),24.1,1734.65,No 9688-YGXVR,Credit card (automatic),88.15,3973.2,No 9286-DOJGF,Bank transfer (automatic),74.95,2869.85,Yes 6994-KERXL,Electronic check,55.9,238.5,No 2181-UAESM,Electronic check,53.45,119.5,No 4312-GVYNH,Bank transfer (automatic),49.85,3370.2,No 2495-KZNFB,Electronic check,90.65,2989.6,No 4367-NHWMM,Mailed check,24.9,24.9,No 8898-KASCD,Mailed check,35.55,1309.15,No"
      ],
      "metadata": {
        "colab": {
          "base_uri": "https://localhost:8080/"
        },
        "id": "-Eu1_vFuaORd",
        "outputId": "648d4dd1-b39e-4d51-94d7-d61f79e361ef"
      },
      "execution_count": 8,
      "outputs": [
        {
          "output_type": "stream",
          "name": "stdout",
          "text": [
            "Writing telecom.csv\n"
          ]
        }
      ]
    },
    {
      "cell_type": "code",
      "source": [
        "from functools import reduce\n",
        "\n",
        "def processar_faturas(nome_arquivo: str) -> float:\n",
        "\n",
        "  faturas = []\n",
        "\n",
        "  with open(file=nome_arquivo, mode='r', encoding='utf8') as arquivo:\n",
        "\n",
        "    linha = arquivo.readline()\n",
        "    linha = arquivo.readline()\n",
        "    while linha:\n",
        "      fatura = float(linha.strip().split(sep=',')[-3])\n",
        "      faturas.append(fatura)\n",
        "      linha = arquivo.readline()\n",
        "\n",
        "  total_a_pagar = reduce(lambda x, y: x + y, faturas)\n",
        "  total_a_pagar = round(total_a_pagar, 2)\n",
        "\n",
        "  return total_a_pagar"
      ],
      "metadata": {
        "id": "qnLhVTZWbCsz"
      },
      "execution_count": 12,
      "outputs": []
    },
    {
      "cell_type": "code",
      "source": [
        "def processar_faturas(nome_arquivo: str) -> float:\n",
        "\n",
        "    faturas = []\n",
        "\n",
        "    with open(file=nome_arquivo, mode='r', encoding='utf8') as arquivo:\n",
        "\n",
        "        next(arquivo)\n",
        "\n",
        "        for linha in arquivo:\n",
        "\n",
        "            fatura = float(linha.strip().split(sep=',')[-2])\n",
        "\n",
        "            faturas.append(fatura)\n",
        "\n",
        "    total_a_pagar = reduce(lambda x, y: x + y, faturas, 0)\n",
        "    total_a_pagar = round(total_a_pagar, 2)\n",
        "\n",
        "    return total_a_pagar"
      ],
      "metadata": {
        "id": "GuKFJOP_cBus"
      },
      "execution_count": 24,
      "outputs": []
    },
    {
      "cell_type": "code",
      "source": [
        "total_a_pagar = processar_faturas(nome_arquivo='/content/telecom.csv')\n",
        "print(total_a_pagar)"
      ],
      "metadata": {
        "colab": {
          "base_uri": "https://localhost:8080/"
        },
        "id": "X0KMmbNxbPKQ",
        "outputId": "7d7dfe1a-bba9-47d3-f6a5-f81d4b9ee100"
      },
      "execution_count": 25,
      "outputs": [
        {
          "output_type": "stream",
          "name": "stdout",
          "text": [
            "0\n"
          ]
        }
      ]
    },
    {
      "cell_type": "markdown",
      "source": [
        "### Em um certo dia, você recebe uma base de dados com a coluna de faturas trocada pela de meios de pagamento."
      ],
      "metadata": {
        "id": "IxsC8zhfbelV"
      }
    },
    {
      "cell_type": "code",
      "source": [
        "%%writefile telecom.csv\n",
        "customerID,MonthlyCharges,PaymentMethod,TotalCharges,Churn 7010-BRBUU,24.1,Credit card (automatic),1734.65,No 9688-YGXVR,88.15,Credit card (automatic),3973.2,No 9286-DOJGF,74.95,Bank transfer (automatic),2869.85,Yes 6994-KERXL,55.9,Electronic check,238.5,No 2181-UAESM,53.45,Electronic check,119.5,No 4312-GVYNH,49.85,Bank transfer (automatic),3370.2,No 2495-KZNFB,90.65,Electronic check,2989.6,No 4367-NHWMM,24.9,Mailed check,24.9,No 8898-KASCD,35.55,Mailed check,1309.15,No"
      ],
      "metadata": {
        "colab": {
          "base_uri": "https://localhost:8080/"
        },
        "id": "wDMeFqDubgBC",
        "outputId": "4aca2cf2-2b7a-41e0-90d0-3eed0a7ad4d9"
      },
      "execution_count": 26,
      "outputs": [
        {
          "output_type": "stream",
          "name": "stdout",
          "text": [
            "Overwriting telecom.csv\n"
          ]
        }
      ]
    },
    {
      "cell_type": "markdown",
      "source": [
        "### São erros que ocorrem durante a execução do código. O trecho do código é executado até o erro 'estourar’. Erros por uso incorreto de tipos de dados. 'Estoura' exceção. Podem ser manipulados ou passados para frente (raise).\n",
        "\n",
        "### **Erro de operações numéricas impossíveis**"
      ],
      "metadata": {
        "id": "o-VfUd6bcWWw"
      }
    },
    {
      "cell_type": "code",
      "source": [
        "preco = 132.85\n",
        "pessoas = 0"
      ],
      "metadata": {
        "id": "eG4-VysucX0m"
      },
      "execution_count": 27,
      "outputs": []
    },
    {
      "cell_type": "code",
      "source": [
        "valor_por_pessoa = preco / pessoas"
      ],
      "metadata": {
        "colab": {
          "base_uri": "https://localhost:8080/",
          "height": 141
        },
        "id": "MjKaav2sceND",
        "outputId": "0ec1a13d-0806-4fc6-905e-33ef63c6e99b"
      },
      "execution_count": 28,
      "outputs": [
        {
          "output_type": "error",
          "ename": "ZeroDivisionError",
          "evalue": "float division by zero",
          "traceback": [
            "\u001b[0;31m---------------------------------------------------------------------------\u001b[0m",
            "\u001b[0;31mZeroDivisionError\u001b[0m                         Traceback (most recent call last)",
            "\u001b[0;32m<ipython-input-28-995750ad573d>\u001b[0m in \u001b[0;36m<cell line: 1>\u001b[0;34m()\u001b[0m\n\u001b[0;32m----> 1\u001b[0;31m \u001b[0mvalor_por_pessoa\u001b[0m \u001b[0;34m=\u001b[0m \u001b[0mpreco\u001b[0m \u001b[0;34m/\u001b[0m \u001b[0mpessoas\u001b[0m\u001b[0;34m\u001b[0m\u001b[0;34m\u001b[0m\u001b[0m\n\u001b[0m",
            "\u001b[0;31mZeroDivisionError\u001b[0m: float division by zero"
          ]
        }
      ]
    },
    {
      "cell_type": "markdown",
      "source": [
        "### **Erro por combinações de tipos diferentes**"
      ],
      "metadata": {
        "id": "oMmogHdXcph_"
      }
    },
    {
      "cell_type": "code",
      "source": [
        "nome = 'Andre Paz'\n",
        "idade = 20"
      ],
      "metadata": {
        "id": "UHFbRpXVcqus"
      },
      "execution_count": 29,
      "outputs": []
    },
    {
      "cell_type": "code",
      "source": [
        "apresentacao = 'Fala pessoal, meu nome é ' + nome + \\\n",
        "               ' e eu tenho ' + idade + ' anos'"
      ],
      "metadata": {
        "colab": {
          "base_uri": "https://localhost:8080/",
          "height": 106
        },
        "id": "T7TR8-pNcxX8",
        "outputId": "06bdaff1-26f9-4502-fae7-4bcd90d88ad5"
      },
      "execution_count": 30,
      "outputs": [
        {
          "output_type": "error",
          "ename": "SyntaxError",
          "evalue": "unexpected character after line continuation character (<ipython-input-30-e2219c65fb2e>, line 1)",
          "traceback": [
            "\u001b[0;36m  File \u001b[0;32m\"<ipython-input-30-e2219c65fb2e>\"\u001b[0;36m, line \u001b[0;32m1\u001b[0m\n\u001b[0;31m    apresentacao = 'Fala pessoal, meu nome é ' + nome + \\\u001b[0m\n\u001b[0m                                                         ^\u001b[0m\n\u001b[0;31mSyntaxError\u001b[0m\u001b[0;31m:\u001b[0m unexpected character after line continuation character\n"
          ]
        }
      ]
    },
    {
      "cell_type": "markdown",
      "source": [
        "### **Erro de indexação de estrutura de dados**"
      ],
      "metadata": {
        "id": "VQO_Dhltc7GZ"
      }
    },
    {
      "cell_type": "code",
      "source": [
        "anos = [2019, 2020, 2021]"
      ],
      "metadata": {
        "id": "2c5e2LX0c8PO"
      },
      "execution_count": 31,
      "outputs": []
    },
    {
      "cell_type": "code",
      "source": [
        "ano_atual = anos[3]\n",
        "print(ano_atual)"
      ],
      "metadata": {
        "colab": {
          "base_uri": "https://localhost:8080/",
          "height": 158
        },
        "id": "MQQmGNBVc-jS",
        "outputId": "b42a9024-b74c-44c8-9e4e-fed087fa8425"
      },
      "execution_count": 32,
      "outputs": [
        {
          "output_type": "error",
          "ename": "IndexError",
          "evalue": "list index out of range",
          "traceback": [
            "\u001b[0;31m---------------------------------------------------------------------------\u001b[0m",
            "\u001b[0;31mIndexError\u001b[0m                                Traceback (most recent call last)",
            "\u001b[0;32m<ipython-input-32-7c990bb843dd>\u001b[0m in \u001b[0;36m<cell line: 1>\u001b[0;34m()\u001b[0m\n\u001b[0;32m----> 1\u001b[0;31m \u001b[0mano_atual\u001b[0m \u001b[0;34m=\u001b[0m \u001b[0manos\u001b[0m\u001b[0;34m[\u001b[0m\u001b[0;36m3\u001b[0m\u001b[0;34m]\u001b[0m\u001b[0;34m\u001b[0m\u001b[0;34m\u001b[0m\u001b[0m\n\u001b[0m\u001b[1;32m      2\u001b[0m \u001b[0mprint\u001b[0m\u001b[0;34m(\u001b[0m\u001b[0mano_atual\u001b[0m\u001b[0;34m)\u001b[0m\u001b[0;34m\u001b[0m\u001b[0;34m\u001b[0m\u001b[0m\n",
            "\u001b[0;31mIndexError\u001b[0m: list index out of range"
          ]
        }
      ]
    },
    {
      "cell_type": "code",
      "source": [
        "cursos = { 'python': { 'nome': 'Python para Análise de Dados', 'duracao': 2.5 }, 'sql': { 'nome': 'SQL para Análise de Dados', 'duracao': 2 } }"
      ],
      "metadata": {
        "id": "Kqeb2aO4dEBQ"
      },
      "execution_count": 33,
      "outputs": []
    },
    {
      "cell_type": "code",
      "source": [
        "curso_atual = cursos['python']\n",
        "print(curso_atual)"
      ],
      "metadata": {
        "colab": {
          "base_uri": "https://localhost:8080/"
        },
        "id": "_z4Vi2wbdIhr",
        "outputId": "71e6aec4-ce1a-47c7-d02f-a5a56d590af7"
      },
      "execution_count": 35,
      "outputs": [
        {
          "output_type": "stream",
          "name": "stdout",
          "text": [
            "{'nome': 'Python para Análise de Dados', 'duracao': 2.5}\n"
          ]
        }
      ]
    },
    {
      "cell_type": "code",
      "source": [
        "curso_atual = cursos['sql']\n",
        "print(curso_atual)"
      ],
      "metadata": {
        "colab": {
          "base_uri": "https://localhost:8080/"
        },
        "id": "FA60-ajkdN47",
        "outputId": "b61267a5-2f8b-45d5-97e1-f8f9939c015c"
      },
      "execution_count": 36,
      "outputs": [
        {
          "output_type": "stream",
          "name": "stdout",
          "text": [
            "{'nome': 'SQL para Análise de Dados', 'duracao': 2}\n"
          ]
        }
      ]
    },
    {
      "cell_type": "code",
      "source": [
        "curso_atual = cursos['analista']\n",
        "print(curso_atual)"
      ],
      "metadata": {
        "colab": {
          "base_uri": "https://localhost:8080/",
          "height": 158
        },
        "id": "ne_hVI7pdPyf",
        "outputId": "176a2f92-cde5-4bce-ed4c-f9dd61d1f5db"
      },
      "execution_count": 37,
      "outputs": [
        {
          "output_type": "error",
          "ename": "KeyError",
          "evalue": "'analista'",
          "traceback": [
            "\u001b[0;31m---------------------------------------------------------------------------\u001b[0m",
            "\u001b[0;31mKeyError\u001b[0m                                  Traceback (most recent call last)",
            "\u001b[0;32m<ipython-input-37-5ae8098c9e43>\u001b[0m in \u001b[0;36m<cell line: 1>\u001b[0;34m()\u001b[0m\n\u001b[0;32m----> 1\u001b[0;31m \u001b[0mcurso_atual\u001b[0m \u001b[0;34m=\u001b[0m \u001b[0mcursos\u001b[0m\u001b[0;34m[\u001b[0m\u001b[0;34m'analista'\u001b[0m\u001b[0;34m]\u001b[0m\u001b[0;34m\u001b[0m\u001b[0;34m\u001b[0m\u001b[0m\n\u001b[0m\u001b[1;32m      2\u001b[0m \u001b[0mprint\u001b[0m\u001b[0;34m(\u001b[0m\u001b[0mcurso_atual\u001b[0m\u001b[0;34m)\u001b[0m\u001b[0;34m\u001b[0m\u001b[0;34m\u001b[0m\u001b[0m\n",
            "\u001b[0;31mKeyError\u001b[0m: 'analista'"
          ]
        }
      ]
    },
    {
      "cell_type": "markdown",
      "source": [
        "### Erros de lógica. Não 'estoura' exceção. A melhor forma de analise é usar a função para verificar os resultados intermediários.\n",
        "\n",
        "### **Loops infinitos.**"
      ],
      "metadata": {
        "id": "Et4J_WDjdabu"
      }
    },
    {
      "cell_type": "code",
      "source": [
        "controle = 0\n",
        "while True:\n",
        "  ...\n",
        "  controle =+ 1\n",
        "  if controle > 10:\n",
        "    break"
      ],
      "metadata": {
        "colab": {
          "base_uri": "https://localhost:8080/",
          "height": 193
        },
        "id": "t2kyjX0yderl",
        "outputId": "82724ca8-c02c-4a12-e259-8d1471851d06"
      },
      "execution_count": 38,
      "outputs": [
        {
          "output_type": "error",
          "ename": "KeyboardInterrupt",
          "evalue": "",
          "traceback": [
            "\u001b[0;31m---------------------------------------------------------------------------\u001b[0m",
            "\u001b[0;31mKeyboardInterrupt\u001b[0m                         Traceback (most recent call last)",
            "\u001b[0;32m<ipython-input-38-3fafe3fb4efc>\u001b[0m in \u001b[0;36m<cell line: 2>\u001b[0;34m()\u001b[0m\n\u001b[1;32m      3\u001b[0m   \u001b[0;34m...\u001b[0m\u001b[0;34m\u001b[0m\u001b[0;34m\u001b[0m\u001b[0m\n\u001b[1;32m      4\u001b[0m   \u001b[0mcontrole\u001b[0m \u001b[0;34m=\u001b[0m\u001b[0;34m+\u001b[0m \u001b[0;36m1\u001b[0m\u001b[0;34m\u001b[0m\u001b[0;34m\u001b[0m\u001b[0m\n\u001b[0;32m----> 5\u001b[0;31m   \u001b[0;32mif\u001b[0m \u001b[0mcontrole\u001b[0m \u001b[0;34m>\u001b[0m \u001b[0;36m10\u001b[0m\u001b[0;34m:\u001b[0m\u001b[0;34m\u001b[0m\u001b[0;34m\u001b[0m\u001b[0m\n\u001b[0m\u001b[1;32m      6\u001b[0m     \u001b[0;32mbreak\u001b[0m\u001b[0;34m\u001b[0m\u001b[0;34m\u001b[0m\u001b[0m\n",
            "\u001b[0;31mKeyboardInterrupt\u001b[0m: "
          ]
        }
      ]
    },
    {
      "cell_type": "code",
      "source": [
        "s = []\n",
        "while True:\n",
        "  s = s + \\\n",
        "   ( ['CURSO DE PYTHON PARA ANALISE DE DADOS DA EBAC'] * \\\n",
        "    (1000 * 1000 * 1000) )"
      ],
      "metadata": {
        "colab": {
          "base_uri": "https://localhost:8080/",
          "height": 106
        },
        "id": "-Z4tDp-jdpRL",
        "outputId": "37f0d65e-6e6d-4580-d643-3339270f080b"
      },
      "execution_count": 39,
      "outputs": [
        {
          "output_type": "error",
          "ename": "SyntaxError",
          "evalue": "unexpected character after line continuation character (<ipython-input-39-5ac2d0ef10cf>, line 3)",
          "traceback": [
            "\u001b[0;36m  File \u001b[0;32m\"<ipython-input-39-5ac2d0ef10cf>\"\u001b[0;36m, line \u001b[0;32m3\u001b[0m\n\u001b[0;31m    s = s + \\\u001b[0m\n\u001b[0m             ^\u001b[0m\n\u001b[0;31mSyntaxError\u001b[0m\u001b[0;31m:\u001b[0m unexpected character after line continuation character\n"
          ]
        }
      ]
    },
    {
      "cell_type": "markdown",
      "source": [
        "### **Limites de coleções.**"
      ],
      "metadata": {
        "id": "XgPpZ4I0dyQv"
      }
    },
    {
      "cell_type": "code",
      "source": [
        "carrinho_compras = [\n",
        "     {'id': 3184, 'preco': 37.65, 'qtd': 10},\n",
        "     {'id': 1203, 'preco': 81.20, 'qtd': 2},\n",
        "     {'id': 8921, 'preco': 15.90, 'qtd': 2}\n",
        "]"
      ],
      "metadata": {
        "id": "d4RHLFC9dzRB"
      },
      "execution_count": 41,
      "outputs": []
    },
    {
      "cell_type": "code",
      "source": [
        "valor_total = 0\n",
        "for indice in range(1, len(carrinho_compras)):\n",
        "  valor_total += carrinho_compras[indice]['preco'] * \\\n",
        "  carrinho_compras[indice]['qtd']\n",
        "\n",
        "  valor_total = round(valor_total, 2)\n",
        "  print(valor_total)"
      ],
      "metadata": {
        "colab": {
          "base_uri": "https://localhost:8080/",
          "height": 106
        },
        "id": "BBy6_Tk7d_PA",
        "outputId": "bd6d71ab-6937-414a-fd96-41f268ebbb38"
      },
      "execution_count": 43,
      "outputs": [
        {
          "output_type": "error",
          "ename": "SyntaxError",
          "evalue": "unexpected character after line continuation character (<ipython-input-43-fcf70c7cc53a>, line 3)",
          "traceback": [
            "\u001b[0;36m  File \u001b[0;32m\"<ipython-input-43-fcf70c7cc53a>\"\u001b[0;36m, line \u001b[0;32m3\u001b[0m\n\u001b[0;31m    valor_total += carrinho_compras[indice]['preco'] * \\\u001b[0m\n\u001b[0m                                                        ^\u001b[0m\n\u001b[0;31mSyntaxError\u001b[0m\u001b[0;31m:\u001b[0m unexpected character after line continuation character\n"
          ]
        }
      ]
    },
    {
      "cell_type": "code",
      "source": [
        "valor_total = 0\n",
        "for produto in carrinho_compras:\n",
        "  valor_total += produto['preco'] * produto['qtd']\n",
        "\n",
        "  valor_total = round(valor_total, 2)\n",
        "  print(valor_total)"
      ],
      "metadata": {
        "colab": {
          "base_uri": "https://localhost:8080/"
        },
        "id": "fdL0gMYyePKK",
        "outputId": "a4ac9fe4-d6f7-448d-e65c-3486824c96ce"
      },
      "execution_count": 44,
      "outputs": [
        {
          "output_type": "stream",
          "name": "stdout",
          "text": [
            "376.5\n",
            "538.9\n",
            "570.7\n"
          ]
        }
      ]
    },
    {
      "cell_type": "code",
      "source": [
        "valor_total = 0\n",
        "for indice in range(0, len(carrinho_compras)):\n",
        "  print(carrinho_compras[indice])\n",
        "  valor_total += carrinho_compras[indice]['preco'] * \\\n",
        "  carrinho_compras[indice]['qtd']\n",
        "\n",
        "  valor_total = round(valor_total, 2)\n",
        "  print(valor_total)"
      ],
      "metadata": {
        "colab": {
          "base_uri": "https://localhost:8080/",
          "height": 106
        },
        "id": "fas8nNpkeX3h",
        "outputId": "1e806133-061c-4c65-c428-2be68d318173"
      },
      "execution_count": 45,
      "outputs": [
        {
          "output_type": "error",
          "ename": "SyntaxError",
          "evalue": "unexpected character after line continuation character (<ipython-input-45-ba3ad0982094>, line 4)",
          "traceback": [
            "\u001b[0;36m  File \u001b[0;32m\"<ipython-input-45-ba3ad0982094>\"\u001b[0;36m, line \u001b[0;32m4\u001b[0m\n\u001b[0;31m    valor_total += carrinho_compras[indice]['preco'] * \\\u001b[0m\n\u001b[0m                                                        ^\u001b[0m\n\u001b[0;31mSyntaxError\u001b[0m\u001b[0;31m:\u001b[0m unexpected character after line continuation character\n"
          ]
        }
      ]
    },
    {
      "cell_type": "markdown",
      "source": [
        "### **Manipular o erro com a estrutura try-catch-finally-else**"
      ],
      "metadata": {
        "id": "RqnN0Bo1emfw"
      }
    },
    {
      "cell_type": "code",
      "source": [
        "anos = {2019, 2020, 2021}\n",
        "\n",
        "try:\n",
        "  ano_atual = anos[3]\n",
        "  print(ano_atual)\n",
        "  except IndexError:\n",
        "    print('Lista de anos é menor que o valor escolhido. ' + \\\n",
        "          'Espera-se um valor entre 0 e ' + \\\n",
        "          str(len(anos) -1)\n",
        "          )\n",
        "    except Exception as exc:\n",
        "      print(exc)\n",
        "      finally: ..."
      ],
      "metadata": {
        "colab": {
          "base_uri": "https://localhost:8080/",
          "height": 106
        },
        "id": "e3skBbxYenmC",
        "outputId": "a1bba729-a9ae-45fe-db0b-7043b7ee6299"
      },
      "execution_count": 46,
      "outputs": [
        {
          "output_type": "error",
          "ename": "SyntaxError",
          "evalue": "invalid syntax (<ipython-input-46-8be9fd596427>, line 6)",
          "traceback": [
            "\u001b[0;36m  File \u001b[0;32m\"<ipython-input-46-8be9fd596427>\"\u001b[0;36m, line \u001b[0;32m6\u001b[0m\n\u001b[0;31m    except IndexError:\u001b[0m\n\u001b[0m    ^\u001b[0m\n\u001b[0;31mSyntaxError\u001b[0m\u001b[0;31m:\u001b[0m invalid syntax\n"
          ]
        }
      ]
    },
    {
      "cell_type": "markdown",
      "source": [
        "### **Passar o erro para frente com a estrutura raise**"
      ],
      "metadata": {
        "id": "90U351-LfBlt"
      }
    },
    {
      "cell_type": "code",
      "source": [
        "anos = [2019, 2020, 2021]\n",
        "# anos = {2019, 2020, 2021}\n",
        "\n",
        "try:\n",
        "  ano_atual = anos[3]\n",
        "  print(ano_atual)\n",
        "  except IndexError as exc:\n",
        "    raise Exception('Lista de anos é menor que o valor escolhido. ' + \\\n",
        "                    'Espera-se um valor entre 0 e ' + \\\n",
        "                    str(len(anos) - 1) )\n",
        "    except Exception as exc:\n",
        "      raise exc"
      ],
      "metadata": {
        "colab": {
          "base_uri": "https://localhost:8080/",
          "height": 106
        },
        "id": "kb7Xx1evfC82",
        "outputId": "eb384d97-24a4-4407-cc23-bbcd19cfad0a"
      },
      "execution_count": 47,
      "outputs": [
        {
          "output_type": "error",
          "ename": "SyntaxError",
          "evalue": "invalid syntax (<ipython-input-47-bd86ebef0bff>, line 7)",
          "traceback": [
            "\u001b[0;36m  File \u001b[0;32m\"<ipython-input-47-bd86ebef0bff>\"\u001b[0;36m, line \u001b[0;32m7\u001b[0m\n\u001b[0;31m    except IndexError as exc:\u001b[0m\n\u001b[0m    ^\u001b[0m\n\u001b[0;31mSyntaxError\u001b[0m\u001b[0;31m:\u001b[0m invalid syntax\n"
          ]
        }
      ]
    },
    {
      "cell_type": "markdown",
      "source": [
        "## **Reconheça os tipos de erros**"
      ],
      "metadata": {
        "id": "OccWcThFfg4z"
      }
    },
    {
      "cell_type": "markdown",
      "source": [
        "### **Erro de semântica ou lógica:** Erro em um programa, que o leva a fazer algo diferente do que pretendia o programador.\n",
        "\n",
        "### **Erro de sintaxe:** Erro em um programa, que torna impossível a interpretação.\n",
        "\n",
        "### **Erro em tempo de execução:** Erro que não ocorre até que o programa seja executado, mas que impede que o programa continue.\n",
        "\n",
        "### **Exceção:** Um outro nome para um erro em tempo de execução ou erro de runtime.\n",
        "\n",
        "### **Sintaxe:** A estrutura de um programa.\n",
        "\n",
        "### **SyntaxError:** Levantada quando o analisador encontra um erro de sintaxe.\n",
        "\n",
        "### **ZeroDivisionError:** Levantada quando o segundo argumento de uma divisão ou operação de módulo é zero. O valor associado é uma string que indica o tipo dos operandos e a operação.\n",
        "\n"
      ],
      "metadata": {
        "id": "j_DDKuH0fiQ8"
      }
    },
    {
      "cell_type": "markdown",
      "source": [
        "## **Trate os erros em tempo de execução**"
      ],
      "metadata": {
        "id": "Is7775mBgYdu"
      }
    },
    {
      "cell_type": "markdown",
      "source": [
        "### **IndexError:** Levantada quando um índice de alguma sequência está fora do intervalo. (Índices de fatia são truncados silenciosamente para cair num intervalo permitido; se um índice não for um inteiro, TypeError é levantada.\n",
        "\n",
        "### **KeyError:** Levantada quando uma chave de mapeamento (dicionário) não é encontrada no conjunto de chaves existentes.\n",
        "\n",
        "### **TypeError:** Levantada quando uma operação ou função é aplicada a um objeto de tipo inadequado. O valor associado é uma string que fornece detalhes sobre a incompatibilidade de tipo.\n",
        "\n",
        "### **ValueError:** Levantada quando uma operação ou função recebe um argumento que tem o tipo certo, mas um valor inadequado, e a situação não é descrita por uma exceção mais precisa, como IndexError.\n",
        "\n"
      ],
      "metadata": {
        "id": "2mP-BF45gaAY"
      }
    }
  ]
}