{
  "nbformat": 4,
  "nbformat_minor": 0,
  "metadata": {
    "colab": {
      "provenance": []
    },
    "kernelspec": {
      "name": "python3",
      "display_name": "Python 3"
    },
    "language_info": {
      "name": "python"
    }
  },
  "cells": [
    {
      "cell_type": "markdown",
      "source": [
        "### Função lambda é uma função anônima (sem nome) com bloco de código super enxuto e que pode ser salva em uma variável. Em geral é utilizada com outros métodos funcionais como map, filtere reduce."
      ],
      "metadata": {
        "id": "AbileWNYqQNk"
      }
    },
    {
      "cell_type": "code",
      "execution_count": 1,
      "metadata": {
        "id": "-QOYFhFwkwWG"
      },
      "outputs": [],
      "source": [
        "variavel = lambda params: expressão"
      ]
    },
    {
      "cell_type": "markdown",
      "source": [
        "### **Função lambda para extrair provedor de e-mail:**"
      ],
      "metadata": {
        "id": "xFfO8SQTqcnd"
      }
    },
    {
      "cell_type": "code",
      "source": [
        "extrair_provedor_email = lambda email: email.split(sep='@')[-1]"
      ],
      "metadata": {
        "id": "ut9Hrhzcqd8d"
      },
      "execution_count": 2,
      "outputs": []
    },
    {
      "cell_type": "code",
      "source": [
        "email = 'andre.paz@gmail.com'\n",
        "print(email)\n",
        "\n",
        "provedor_email = extrair_provedor_email(email)\n",
        "print(provedor_email)"
      ],
      "metadata": {
        "colab": {
          "base_uri": "https://localhost:8080/"
        },
        "id": "13l4lj8KqgBg",
        "outputId": "9042966d-3380-4487-c57e-299faf72e46a"
      },
      "execution_count": 5,
      "outputs": [
        {
          "output_type": "stream",
          "name": "stdout",
          "text": [
            "andre.paz@gmail.com\n",
            "gmail.com\n"
          ]
        }
      ]
    },
    {
      "cell_type": "markdown",
      "source": [
        "### **Função lambda com estruturas condicionais:**"
      ],
      "metadata": {
        "id": "8t6InCJVquH6"
      }
    },
    {
      "cell_type": "code",
      "source": [
        "numero_e_par = lambda numero: True if numero % 2 == 0 else False"
      ],
      "metadata": {
        "id": "tJMhntwGqvYr"
      },
      "execution_count": 6,
      "outputs": []
    },
    {
      "cell_type": "code",
      "source": [
        "numeros = range(0, 10)"
      ],
      "metadata": {
        "id": "278DJ6epqxNi"
      },
      "execution_count": 7,
      "outputs": []
    },
    {
      "cell_type": "code",
      "source": [
        "for numero in numeros:\n",
        "  if numero_e_par(numero) == True:\n",
        "    print(f'O número {numero} é par!')"
      ],
      "metadata": {
        "colab": {
          "base_uri": "https://localhost:8080/"
        },
        "id": "KJ8gFkOKqzBC",
        "outputId": "c65f60ee-475b-4ebe-e462-a596c4921217"
      },
      "execution_count": 8,
      "outputs": [
        {
          "output_type": "stream",
          "name": "stdout",
          "text": [
            "O número 0 é par!\n",
            "O número 2 é par!\n",
            "O número 4 é par!\n",
            "O número 6 é par!\n",
            "O número 8 é par!\n"
          ]
        }
      ]
    },
    {
      "cell_type": "markdown",
      "source": [
        "### **Juros compostos dinâmico**"
      ],
      "metadata": {
        "id": "BHqg1ztkq7zo"
      }
    },
    {
      "cell_type": "code",
      "source": [
        "def retorno(juros: float):\n",
        "  return lambda investimento: investimento * (1 + juros)"
      ],
      "metadata": {
        "id": "NbNRXN7gq88j"
      },
      "execution_count": 9,
      "outputs": []
    },
    {
      "cell_type": "markdown",
      "source": [
        "### **Funções de alta ordem Instanciação**"
      ],
      "metadata": {
        "id": "T25ood9srEda"
      }
    },
    {
      "cell_type": "code",
      "source": [
        "retorno_5_porcento = retorno(juros=0.05)\n",
        "retorno_10_porcento = retorno(juros=0.10)"
      ],
      "metadata": {
        "id": "OO9dZNLMrGDH"
      },
      "execution_count": 10,
      "outputs": []
    },
    {
      "cell_type": "code",
      "source": [
        "valor_final = retorno_5_porcento(investimento=1000)\n",
        "print(valor_final)\n",
        "\n",
        "valor_final = retorno_10_porcento(investimento=1000)\n",
        "print(valor_final)"
      ],
      "metadata": {
        "colab": {
          "base_uri": "https://localhost:8080/"
        },
        "id": "jcro43MArK3W",
        "outputId": "058798ba-6e0a-4cb8-db43-821573f6ed10"
      },
      "execution_count": 12,
      "outputs": [
        {
          "output_type": "stream",
          "name": "stdout",
          "text": [
            "1050.0\n",
            "1100.0\n"
          ]
        }
      ]
    },
    {
      "cell_type": "markdown",
      "source": [
        "### **Funções de alta ordem Uso**"
      ],
      "metadata": {
        "id": "UsfbmMzzrT1p"
      }
    },
    {
      "cell_type": "code",
      "source": [
        "anos = 10\n",
        "valor_inicial = 1000\n",
        "valor_final = valor_inicial\n",
        "\n",
        "for ano in range(1, anos+1):\n",
        "  valor_final = retorno_5_porcento(investimento=valor_final)\n",
        "\n",
        "  valor_final = round(valor_final, 2)\n",
        "  print(valor_final)"
      ],
      "metadata": {
        "colab": {
          "base_uri": "https://localhost:8080/"
        },
        "id": "ciU3Gv75rVM9",
        "outputId": "980480cd-7818-4ff6-ab08-79a682da5c49"
      },
      "execution_count": 13,
      "outputs": [
        {
          "output_type": "stream",
          "name": "stdout",
          "text": [
            "1050.0\n",
            "1102.5\n",
            "1157.62\n",
            "1215.5\n",
            "1276.28\n",
            "1340.09\n",
            "1407.09\n",
            "1477.44\n",
            "1551.31\n",
            "1628.88\n"
          ]
        }
      ]
    },
    {
      "cell_type": "code",
      "source": [
        "anos = 10\n",
        "valor_inicial = 1000\n",
        "valor_final = valor_inicial\n",
        "\n",
        "for ano in range(1, anos+1):\n",
        "  valor_final = retorno_10_porcento(investimento=valor_final)\n",
        "\n",
        "  valor_final = round(valor_final, 2)\n",
        "  print(valor_final)"
      ],
      "metadata": {
        "colab": {
          "base_uri": "https://localhost:8080/"
        },
        "id": "mvKg1W44riGy",
        "outputId": "6947cc51-9e1b-4b9c-efd5-1a49b98729a5"
      },
      "execution_count": 14,
      "outputs": [
        {
          "output_type": "stream",
          "name": "stdout",
          "text": [
            "1100.0\n",
            "1210.0\n",
            "1331.0\n",
            "1464.1\n",
            "1610.51\n",
            "1771.56\n",
            "1948.72\n",
            "2143.59\n",
            "2357.95\n",
            "2593.74\n"
          ]
        }
      ]
    },
    {
      "cell_type": "markdown",
      "source": [
        "### Aplica uma função em todos os elementos de uma coleção (list, dict etc.) e retorna todos os elementos transformados.\n",
        "\n",
        "### **variavel = map (função, coleção)**"
      ],
      "metadata": {
        "id": "qeUB17KnrxHj"
      }
    },
    {
      "cell_type": "code",
      "source": [
        "numeros = [1, 2, 3]\n",
        "\n",
        "numeros_ao_cubo = map(lambda num: num ** 3, numeros)\n",
        "\n",
        "print(list(numeros_ao_cubo))"
      ],
      "metadata": {
        "colab": {
          "base_uri": "https://localhost:8080/"
        },
        "id": "4xEIiWi-r1LY",
        "outputId": "4eefbcea-c66d-4d0e-db14-f2589d02b735"
      },
      "execution_count": 15,
      "outputs": [
        {
          "output_type": "stream",
          "name": "stdout",
          "text": [
            "[1, 8, 27]\n"
          ]
        }
      ]
    },
    {
      "cell_type": "markdown",
      "source": [
        "### **Função lambda para extrair provedor de e-mail (1 parâmetro).**"
      ],
      "metadata": {
        "id": "N8iqkNIwsFjg"
      }
    },
    {
      "cell_type": "code",
      "source": [
        "emails = [ 'andre.perez@gmail.com',\n",
        "          'andre.perez@live.com',\n",
        "           'andre.perez@yahoo.com'\n",
        "]\n",
        "extrair_provedor_email = lambda email: email.split(sep='@')[-1]"
      ],
      "metadata": {
        "id": "8TgRGDNhsHkQ"
      },
      "execution_count": 16,
      "outputs": []
    },
    {
      "cell_type": "code",
      "source": [
        "provedores = []\n",
        "for email in emails:\n",
        "  provedor = extrair_provedor_email(email)\n",
        "  provedores.append(provedor)\n",
        "\n",
        "  print(provedores)"
      ],
      "metadata": {
        "colab": {
          "base_uri": "https://localhost:8080/"
        },
        "id": "dBhdP2SjsYYh",
        "outputId": "818a2c91-8a16-4afa-9790-ee95a8ba8ea8"
      },
      "execution_count": 17,
      "outputs": [
        {
          "output_type": "stream",
          "name": "stdout",
          "text": [
            "['gmail.com']\n",
            "['gmail.com', 'live.com']\n",
            "['gmail.com', 'live.com', 'yahoo.com']\n"
          ]
        }
      ]
    },
    {
      "cell_type": "markdown",
      "source": [
        "### **Funções de alta ordem**"
      ],
      "metadata": {
        "id": "uRbw6XY8slDR"
      }
    },
    {
      "cell_type": "code",
      "source": [
        "provedores = map(extrair_provedor_email, emails)\n",
        "print(provedores)"
      ],
      "metadata": {
        "colab": {
          "base_uri": "https://localhost:8080/"
        },
        "id": "Gcu9-XoTsmQp",
        "outputId": "36374d89-900f-4f59-af20-4af9a9f67739"
      },
      "execution_count": 18,
      "outputs": [
        {
          "output_type": "stream",
          "name": "stdout",
          "text": [
            "<map object at 0x7a72d261e890>\n"
          ]
        }
      ]
    },
    {
      "cell_type": "code",
      "source": [
        "provedores = list(map(extrair_provedor_email, emails))\n",
        "print(provedores)"
      ],
      "metadata": {
        "colab": {
          "base_uri": "https://localhost:8080/"
        },
        "id": "OPAG2xrcspSy",
        "outputId": "aa080313-99de-49e8-edc1-6a9a771428ac"
      },
      "execution_count": 19,
      "outputs": [
        {
          "output_type": "stream",
          "name": "stdout",
          "text": [
            "['gmail.com', 'live.com', 'yahoo.com']\n"
          ]
        }
      ]
    },
    {
      "cell_type": "code",
      "source": [
        "provedores = map(lambda email: email.split(sep='@')[-1], emails)\n",
        "...\n",
        "print(list(provedores))"
      ],
      "metadata": {
        "colab": {
          "base_uri": "https://localhost:8080/"
        },
        "id": "gckDxFCossKH",
        "outputId": "0af3752a-8bd3-4663-c167-218c7fed9309"
      },
      "execution_count": 20,
      "outputs": [
        {
          "output_type": "stream",
          "name": "stdout",
          "text": [
            "['gmail.com', 'live.com', 'yahoo.com']\n"
          ]
        }
      ]
    },
    {
      "cell_type": "markdown",
      "source": [
        "### **Investimento (Mais de 1 parâmetros).**"
      ],
      "metadata": {
        "id": "tVey15FWs0BN"
      }
    },
    {
      "cell_type": "code",
      "source": [
        "anos = [10, 10, 10]\n",
        "taxas_juros = [0.05, 0.10, 0.15]\n",
        "valores_iniciais = [1000, 1000, 1000]\n",
        "\n",
        "def retorno(valor_inicial: float, taxa_juros: float, anos: int)-> float:\n",
        "  valor_final = valor_inicial\n",
        "  for ano in range(1,anos+1):\n",
        "   valor_final = valor_final * (1+taxa_juros)\n",
        "  return round(valor_final, 2)\n",
        "\n",
        "cenarios = list(map(retorno, valores_iniciais, taxas_juros, anos))\n",
        "print(cenarios)"
      ],
      "metadata": {
        "colab": {
          "base_uri": "https://localhost:8080/"
        },
        "id": "Kru8DrVys1Fk",
        "outputId": "42a8cf91-6819-47aa-8a7c-eaf3b7aa784f"
      },
      "execution_count": 25,
      "outputs": [
        {
          "output_type": "stream",
          "name": "stdout",
          "text": [
            "[1628.89, 2593.74, 4045.56]\n"
          ]
        }
      ]
    },
    {
      "cell_type": "markdown",
      "source": [
        "### Aplica uma função a todos os elemento de uma coleção, dois a dois, e retorna apenas um elemento.\n",
        "\n",
        "### **variavel = reduce(função, coleção)**"
      ],
      "metadata": {
        "id": "Q8pacURmttiC"
      }
    },
    {
      "cell_type": "code",
      "source": [
        "numeros = [1, 2, 3]"
      ],
      "metadata": {
        "id": "qvFFEwh1tuw5"
      },
      "execution_count": 26,
      "outputs": []
    },
    {
      "cell_type": "code",
      "source": [
        "from functools import reduce\n",
        "\n",
        "soma = reduce(lambda x, y: x + y, numeros)\n",
        "print(soma)"
      ],
      "metadata": {
        "colab": {
          "base_uri": "https://localhost:8080/"
        },
        "id": "DVtc5nV6t048",
        "outputId": "27cf7f62-e14d-41aa-cafa-0f544b2df18d"
      },
      "execution_count": 27,
      "outputs": [
        {
          "output_type": "stream",
          "name": "stdout",
          "text": [
            "6\n"
          ]
        }
      ]
    },
    {
      "cell_type": "markdown",
      "source": [
        "### **Encontrar maior número em uma lista.**"
      ],
      "metadata": {
        "id": "7CGK6vYIt79j"
      }
    },
    {
      "cell_type": "code",
      "source": [
        "def maior_entre(primeiro: int, segundo: int)-> int:\n",
        "  return primeiro if primeiro >= segundo else segundo\n",
        "\n",
        "  primeiro = 11\n",
        "  segundo = 11\n",
        "\n",
        "  print(maior_entre(primeiro=primeiro, segundo=segundo))"
      ],
      "metadata": {
        "id": "TrKWMBiwt9SG"
      },
      "execution_count": 28,
      "outputs": []
    },
    {
      "cell_type": "code",
      "source": [
        "from random import random\n",
        "\n",
        "print(random())"
      ],
      "metadata": {
        "colab": {
          "base_uri": "https://localhost:8080/"
        },
        "id": "wpgnVRP8uHO_",
        "outputId": "bc4a90e6-f067-4260-9fde-92ddfbdb87dd"
      },
      "execution_count": 30,
      "outputs": [
        {
          "output_type": "stream",
          "name": "stdout",
          "text": [
            "0.6064772003712217\n"
          ]
        }
      ]
    },
    {
      "cell_type": "markdown",
      "source": [
        "### **Funções de alta ordem**"
      ],
      "metadata": {
        "id": "d7RQWBFfuP0Y"
      }
    },
    {
      "cell_type": "code",
      "source": [
        "from random import random\n",
        "\n",
        "numeros = [round(100 * random()) for _ in range(0, 100)]\n",
        "print(numeros)"
      ],
      "metadata": {
        "colab": {
          "base_uri": "https://localhost:8080/"
        },
        "id": "totFp8WauRKA",
        "outputId": "1bda4182-9bf0-4ca2-a684-97ac7831f60d"
      },
      "execution_count": 31,
      "outputs": [
        {
          "output_type": "stream",
          "name": "stdout",
          "text": [
            "[29, 24, 15, 29, 13, 73, 98, 56, 52, 85, 17, 46, 38, 64, 56, 58, 24, 6, 1, 8, 68, 83, 88, 92, 82, 96, 13, 4, 54, 63, 42, 17, 63, 70, 29, 33, 81, 69, 77, 53, 9, 34, 9, 72, 97, 9, 75, 75, 65, 30, 30, 18, 71, 43, 50, 45, 67, 42, 17, 30, 39, 10, 75, 9, 29, 63, 10, 35, 87, 24, 52, 2, 7, 66, 86, 36, 97, 70, 34, 0, 58, 70, 52, 69, 1, 38, 91, 84, 26, 65, 45, 38, 56, 24, 99, 42, 3, 96, 28, 68]\n"
          ]
        }
      ]
    },
    {
      "cell_type": "code",
      "source": [
        "maior_numero = reduce(maior_entre, numeros)\n",
        "print(maior_numero)"
      ],
      "metadata": {
        "colab": {
          "base_uri": "https://localhost:8080/"
        },
        "id": "-DugzKBPuddC",
        "outputId": "0bc279a7-029f-47dc-f4d8-470ba221a00f"
      },
      "execution_count": 32,
      "outputs": [
        {
          "output_type": "stream",
          "name": "stdout",
          "text": [
            "99\n"
          ]
        }
      ]
    },
    {
      "cell_type": "code",
      "source": [
        "maior_numero = reduce(\n",
        "    lambda primeiro, segundo: primeiro if primeiro >= segundo else\n",
        "    segundo, numeros )\n",
        "print(maior_numero)"
      ],
      "metadata": {
        "colab": {
          "base_uri": "https://localhost:8080/"
        },
        "id": "iGj71aZQug5u",
        "outputId": "9cd585db-d45b-45ed-e017-1b41b8f6a28f"
      },
      "execution_count": 33,
      "outputs": [
        {
          "output_type": "stream",
          "name": "stdout",
          "text": [
            "99\n"
          ]
        }
      ]
    },
    {
      "cell_type": "markdown",
      "source": [
        "### **Combinação de métodos funcionais.**"
      ],
      "metadata": {
        "id": "X8n0etBNusBG"
      }
    },
    {
      "cell_type": "code",
      "source": [
        "from random import random\n",
        "numeros = [round(100 * random()) for _ in range(0, 100)]\n",
        "print(numeros)"
      ],
      "metadata": {
        "colab": {
          "base_uri": "https://localhost:8080/"
        },
        "id": "4n_PvICOutLX",
        "outputId": "2bb517c3-10d5-42f2-9bd0-120a7feee954"
      },
      "execution_count": 34,
      "outputs": [
        {
          "output_type": "stream",
          "name": "stdout",
          "text": [
            "[1, 77, 81, 40, 96, 62, 99, 37, 3, 69, 32, 78, 4, 74, 73, 76, 59, 98, 3, 68, 53, 74, 86, 49, 73, 67, 25, 26, 99, 8, 71, 40, 3, 46, 40, 59, 89, 14, 60, 74, 66, 70, 7, 78, 30, 26, 72, 47, 9, 51, 14, 49, 8, 42, 95, 69, 44, 33, 6, 51, 79, 34, 11, 78, 48, 34, 97, 57, 65, 92, 51, 49, 93, 72, 81, 29, 10, 91, 12, 26, 35, 42, 94, 6, 48, 54, 34, 32, 0, 82, 84, 95, 11, 45, 14, 42, 0, 68, 72, 92]\n"
          ]
        }
      ]
    },
    {
      "cell_type": "markdown",
      "source": [
        "### **Eleve os números ao quadrado:**"
      ],
      "metadata": {
        "id": "aTPZ6GIOu4Vi"
      }
    },
    {
      "cell_type": "code",
      "source": [
        "numeros_ao_quadrado = map(lambda numero: numero ** 2, numeros)"
      ],
      "metadata": {
        "id": "8srB02zku1qG"
      },
      "execution_count": 35,
      "outputs": []
    },
    {
      "cell_type": "markdown",
      "source": [
        "### **Filtra os números ímpares:**"
      ],
      "metadata": {
        "id": "LZHdliqru7Ov"
      }
    },
    {
      "cell_type": "code",
      "source": [
        "numeros_impares = filter(lambda numero: numero % 2 != 0, numeros_ao_quadrado)"
      ],
      "metadata": {
        "id": "i54KNwPSu-gh"
      },
      "execution_count": 36,
      "outputs": []
    },
    {
      "cell_type": "markdown",
      "source": [
        "### **Soma todos os números:**"
      ],
      "metadata": {
        "id": "YqPGYRLSvA1W"
      }
    },
    {
      "cell_type": "code",
      "source": [
        "soma_numeros = reduce(lambda x, y: x + y, numeros_impares)\n",
        "print(soma_numeros)"
      ],
      "metadata": {
        "colab": {
          "base_uri": "https://localhost:8080/"
        },
        "id": "qS19cgF2vI8W",
        "outputId": "1afda2b5-bf8a-485a-e739-6ce7bd6db655"
      },
      "execution_count": 37,
      "outputs": [
        {
          "output_type": "stream",
          "name": "stdout",
          "text": [
            "168948\n"
          ]
        }
      ]
    },
    {
      "cell_type": "markdown",
      "source": [
        "### **Todos os métodos de uma vez:**"
      ],
      "metadata": {
        "id": "eYtblKMzvPOr"
      }
    },
    {
      "cell_type": "code",
      "source": [
        "soma_numeros = reduce(lambda x, y: x + y,\n",
        "                      filter(lambda numero: numero % 2 !=\n",
        "                             0, map(lambda numero: numero **\n",
        "                                    2, numeros ) ) )\n",
        "print(soma_numeros)"
      ],
      "metadata": {
        "colab": {
          "base_uri": "https://localhost:8080/"
        },
        "id": "vUXtqDFzvQXE",
        "outputId": "32ec0fed-3d4a-400e-ab65-598fb40f9412"
      },
      "execution_count": 38,
      "outputs": [
        {
          "output_type": "stream",
          "name": "stdout",
          "text": [
            "168948\n"
          ]
        }
      ]
    },
    {
      "cell_type": "markdown",
      "source": [
        "## **Explore a função lambda**"
      ],
      "metadata": {
        "id": "l_DzKdLpvhkB"
      }
    },
    {
      "cell_type": "markdown",
      "source": [
        "### **Estilo de programação imperativa:** Programação em que indicamos os comandos e o código executa a manipulação dos dados.\n",
        "\n",
        "### **Estilo de programação funcional:** Programação em que manipulamos dados com muitas e pequenas funções já definidas.\n",
        "\n",
        "### **Função lambda:** É uma função anônima, ou seja, você não precisa defini-la para usá-la depois dentro do código. É normalmente usada com outros métodos funcionais. A palavra “lambda” é reservada do Python, por isso aparece em azul no Google Colab.\n",
        "\n",
        "### **Funções de alta ordem:** Esse tipo de função permite a composição de funções pequenas como parâmetros e retornam outras funções maiores. Usada com a função lambda, tem o objetivo de organizar o código para receber interações.\n",
        "\n",
        "### **Instanciação:** Detalhamento dos elementos (instância) de uma classe específica.\n",
        "\n",
        "### **Operadores funcionais:** São funções que são trabalhadas com a função lambda, como a função map, filter e reduce.\n",
        "\n"
      ],
      "metadata": {
        "id": "xR3kzBlPvlLl"
      }
    },
    {
      "cell_type": "markdown",
      "source": [
        "## **Domine a função map**"
      ],
      "metadata": {
        "id": "bYCxkzofwhtI"
      }
    },
    {
      "cell_type": "markdown",
      "source": [
        "### **Função map:** Elemento de programação funcional nativo do Python, ou seja, para usá-la no Google Colab é necessário importar da biblioteca. É uma função de alta ordem que recebe ou retorna uma função, mas também recebe uma coleção. Chama-se “map” por que localiza cada um dos elementos da coleção e aplica uma função para transformá-los. Pode ser usada com a função lambda, mas não é uma obrigatoriedade.\n",
        "\n",
        "### **Geradores (yield):** “Uma função que retorna um iterador gerador. É parecida com uma função normal, exceto pelo fato de conter expressões yield para produzir uma série de valores que podem ser usados em um laço for ou que podem ser obtidos um de cada vez com a função next(). Normalmente refere-se a uma função geradora, mas pode referir-se a um iterador gerador em alguns contextos. Em alguns casos onde o significado desejado não está claro, usar o termo completo evita ambiguidade.\n",
        "\n"
      ],
      "metadata": {
        "id": "hPWDau_nwjtK"
      }
    },
    {
      "cell_type": "markdown",
      "source": [
        "## **Estude a função reduce**"
      ],
      "metadata": {
        "id": "9eGiFDntxHJ5"
      }
    },
    {
      "cell_type": "markdown",
      "source": [
        "### **Compossibilidade:** Quando as funções são compostas, ou seja, usamos as três funções (map, filter e reduce) numa mesma operação.\n",
        "\n",
        "### **Random:** Pacote da biblioteca do Python com uma função que gera números aleatórios. Os números que essa função retorna estão sempre entre 0 e 1.\n",
        "\n",
        "### **Função reduce:** Elemento de programação funcional nativo do Python, ou seja, para usá-la no Google Colab é necessário importar da biblioteca. Usada para aplicar uma função em dois elementos por vez para compará-los até reduzir para um único elemento na coleção. A função retorna um valor. Pode ser usada com a função lambda, mas não é uma obrigatoriedade.\n",
        "\n"
      ],
      "metadata": {
        "id": "Netgs0MMxIld"
      }
    }
  ]
}