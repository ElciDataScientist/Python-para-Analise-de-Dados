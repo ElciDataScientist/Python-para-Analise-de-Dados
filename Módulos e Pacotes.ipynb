{
  "nbformat": 4,
  "nbformat_minor": 0,
  "metadata": {
    "colab": {
      "provenance": []
    },
    "kernelspec": {
      "name": "python3",
      "display_name": "Python 3"
    },
    "language_info": {
      "name": "python"
    }
  },
  "cells": [
    {
      "cell_type": "markdown",
      "source": [
        "### **Randon**"
      ],
      "metadata": {
        "id": "dlXo0Mb_7Av_"
      }
    },
    {
      "cell_type": "code",
      "execution_count": 1,
      "metadata": {
        "id": "pIcGPeTw65g5"
      },
      "outputs": [],
      "source": [
        "import random"
      ]
    },
    {
      "cell_type": "code",
      "source": [
        "escolha = random.choice([1, 2, 3])\n",
        "print(escolha)"
      ],
      "metadata": {
        "colab": {
          "base_uri": "https://localhost:8080/"
        },
        "id": "uqBE1KR27FqG",
        "outputId": "1ec340b5-0803-4a48-c068-412511d22764"
      },
      "execution_count": 2,
      "outputs": [
        {
          "output_type": "stream",
          "name": "stdout",
          "text": [
            "1\n"
          ]
        }
      ]
    },
    {
      "cell_type": "code",
      "source": [
        "numero_aleatorio = random.random()"
      ],
      "metadata": {
        "id": "i2LgbAT_7IMw"
      },
      "execution_count": 3,
      "outputs": []
    },
    {
      "cell_type": "markdown",
      "source": [
        "### **Match**"
      ],
      "metadata": {
        "id": "HkAhXVGJ7Tk_"
      }
    },
    {
      "cell_type": "code",
      "source": [
        "import math"
      ],
      "metadata": {
        "id": "KpzP6a_57Wa3"
      },
      "execution_count": 4,
      "outputs": []
    },
    {
      "cell_type": "code",
      "source": [
        "potencia = math.pow(10, 10)\n",
        "print(potencia)"
      ],
      "metadata": {
        "colab": {
          "base_uri": "https://localhost:8080/"
        },
        "id": "-81iuGBe7X8t",
        "outputId": "46c8a8ea-218a-4b1e-cd57-7577850a8e08"
      },
      "execution_count": 5,
      "outputs": [
        {
          "output_type": "stream",
          "name": "stdout",
          "text": [
            "10000000000.0\n"
          ]
        }
      ]
    },
    {
      "cell_type": "code",
      "source": [
        "num = math.ceil(10.1)\n",
        "print(num)"
      ],
      "metadata": {
        "colab": {
          "base_uri": "https://localhost:8080/"
        },
        "id": "M4cH9Hbn7afh",
        "outputId": "3e3a94f8-c7e7-46a8-8935-d0bea1bb7a14"
      },
      "execution_count": 6,
      "outputs": [
        {
          "output_type": "stream",
          "name": "stdout",
          "text": [
            "11\n"
          ]
        }
      ]
    },
    {
      "cell_type": "code",
      "source": [
        "print(math.pi)"
      ],
      "metadata": {
        "colab": {
          "base_uri": "https://localhost:8080/"
        },
        "id": "R7KhVeHz7cjo",
        "outputId": "78dd2871-0898-492e-d0d3-461335ecff38"
      },
      "execution_count": 7,
      "outputs": [
        {
          "output_type": "stream",
          "name": "stdout",
          "text": [
            "3.141592653589793\n"
          ]
        }
      ]
    },
    {
      "cell_type": "markdown",
      "source": [
        "### **Time**"
      ],
      "metadata": {
        "id": "Kq7pZGrh7hg9"
      }
    },
    {
      "cell_type": "code",
      "source": [
        "from time import time"
      ],
      "metadata": {
        "id": "GNe2UoA67j4t"
      },
      "execution_count": 8,
      "outputs": []
    },
    {
      "cell_type": "code",
      "source": [
        "print(time())"
      ],
      "metadata": {
        "colab": {
          "base_uri": "https://localhost:8080/"
        },
        "id": "LLEJyHkI7mpp",
        "outputId": "ce0b59bd-131c-4772-bdf8-3a940a18987e"
      },
      "execution_count": 9,
      "outputs": [
        {
          "output_type": "stream",
          "name": "stdout",
          "text": [
            "1728674218.6392696\n"
          ]
        }
      ]
    },
    {
      "cell_type": "code",
      "source": [
        "from time import time, sleep"
      ],
      "metadata": {
        "id": "YVvncw-w7pd7"
      },
      "execution_count": 13,
      "outputs": []
    },
    {
      "cell_type": "code",
      "source": [
        "sleep(5)"
      ],
      "metadata": {
        "id": "hE-HNxLb7n80"
      },
      "execution_count": 14,
      "outputs": []
    },
    {
      "cell_type": "code",
      "source": [
        "sleep(5)"
      ],
      "metadata": {
        "id": "oO7H-AOY7q4r"
      },
      "execution_count": 15,
      "outputs": []
    },
    {
      "cell_type": "markdown",
      "source": [
        "### **Datetime**"
      ],
      "metadata": {
        "id": "GB3vSWiZ71VU"
      }
    },
    {
      "cell_type": "code",
      "source": [
        "from datetime import datetime as dt"
      ],
      "metadata": {
        "id": "ilaNjLJh73sY"
      },
      "execution_count": 16,
      "outputs": []
    },
    {
      "cell_type": "code",
      "source": [
        "print(dt.now())"
      ],
      "metadata": {
        "colab": {
          "base_uri": "https://localhost:8080/"
        },
        "id": "rQ9CBAHb75Xa",
        "outputId": "b62e364c-67a0-490e-ff85-8eb35284d55e"
      },
      "execution_count": 17,
      "outputs": [
        {
          "output_type": "stream",
          "name": "stdout",
          "text": [
            "2024-10-11 19:17:30.927791\n"
          ]
        }
      ]
    },
    {
      "cell_type": "code",
      "source": [
        "print(dt.now().day)"
      ],
      "metadata": {
        "colab": {
          "base_uri": "https://localhost:8080/"
        },
        "id": "WVM5Ufuq765B",
        "outputId": "5a7e8282-7858-41e5-eeac-32d1eccf4ef0"
      },
      "execution_count": 18,
      "outputs": [
        {
          "output_type": "stream",
          "name": "stdout",
          "text": [
            "11\n"
          ]
        }
      ]
    },
    {
      "cell_type": "code",
      "source": [
        "print(dt.now().year)"
      ],
      "metadata": {
        "colab": {
          "base_uri": "https://localhost:8080/"
        },
        "id": "ohEvTWRp78bS",
        "outputId": "92597714-6177-4d64-ffda-45ec1ff72c0b"
      },
      "execution_count": 19,
      "outputs": [
        {
          "output_type": "stream",
          "name": "stdout",
          "text": [
            "2024\n"
          ]
        }
      ]
    },
    {
      "cell_type": "markdown",
      "source": [
        "### Vamos criar um módulo (arquivo) com o nome: Classe Arquivo CSV"
      ],
      "metadata": {
        "id": "51fAJ7bH8EbR"
      }
    },
    {
      "cell_type": "code",
      "source": [
        "import csv\n",
        "\n",
        "class ArquivoCSV:\n",
        "    def __init__(self, arquivo):\n",
        "        self.arquivo = arquivo\n",
        "        self.colunas = self._obter_colunas()\n",
        "        self.dados = self._obter_dados()\n",
        "\n",
        "    def _obter_colunas(self):\n",
        "        \"\"\"Lê a primeira linha do arquivo CSV para obter os nomes das colunas.\"\"\"\n",
        "        with open(self.arquivo, 'r') as f:\n",
        "            reader = csv.reader(f)\n",
        "            return next(reader)\n",
        "\n",
        "    def _obter_dados(self):\n",
        "        \"\"\"Lê as linhas restantes do arquivo CSV para obter os dados.\"\"\"\n",
        "        with open(self.arquivo, 'r') as f:\n",
        "            reader = csv.reader(f)\n",
        "            next(reader)  # Pula a linha de cabeçalho\n",
        "            return list(reader)\n",
        "\n",
        "    def extrair_coluna(self, indice_coluna):\n",
        "        \"\"\"Extrai os dados de uma coluna específica, dado o índice da coluna.\"\"\"\n",
        "        return [linha[indice_coluna] for linha in self.dados]"
      ],
      "metadata": {
        "id": "6CA3CYt2-nzI"
      },
      "execution_count": 20,
      "outputs": []
    },
    {
      "cell_type": "markdown",
      "source": [
        "### **Arquivo banco.csv**"
      ],
      "metadata": {
        "id": "zLPLsYHe8y4G"
      }
    },
    {
      "cell_type": "code",
      "source": [
        "%%writefile banco.csv\n",
        "age,job,marital,education,default,balance,housing,loan\n",
        "30,unemployed,married,primary,no,1787,no,no\n",
        "33,services,married,secondary,no,4789,yes,yes\n",
        "35,management,single,tertiary,no,1350,yes,no\n",
        "30,management,married,tertiary,no,1476,yes,yes\n",
        "59,blue-collar,married,secondary,no,0,yes,no\n",
        "35,management,single,tertiary,no,747,no,no\n",
        "36,self-employed,married,tertiary,no,307,yes,no\n",
        "39,technician,married,secondary,no,147,yes,no\n",
        "41,entrepreneur,married,tertiary,no,221,yes,no\n",
        "43,services,married,primary,no,-88,yes,yes"
      ],
      "metadata": {
        "colab": {
          "base_uri": "https://localhost:8080/"
        },
        "id": "HWrOYT5i8zqs",
        "outputId": "b04a6cb6-ea36-47a9-85b5-30e1d1890db3"
      },
      "execution_count": 21,
      "outputs": [
        {
          "output_type": "stream",
          "name": "stdout",
          "text": [
            "Overwriting banco.csv\n"
          ]
        }
      ]
    },
    {
      "cell_type": "code",
      "source": [
        "arquivo_banco = ArquivoCSV(arquivo='./banco.csv')"
      ],
      "metadata": {
        "id": "NsJl5L3g9HW5"
      },
      "execution_count": 22,
      "outputs": []
    },
    {
      "cell_type": "code",
      "source": [
        "arquivo_banco.colunas"
      ],
      "metadata": {
        "colab": {
          "base_uri": "https://localhost:8080/"
        },
        "id": "ET1BACvN-Iqr",
        "outputId": "1c00d2d4-eb5a-45be-c95e-d82323956d20"
      },
      "execution_count": 23,
      "outputs": [
        {
          "output_type": "execute_result",
          "data": {
            "text/plain": [
              "['age',\n",
              " 'job',\n",
              " 'marital',\n",
              " 'education',\n",
              " 'default',\n",
              " 'balance',\n",
              " 'housing',\n",
              " 'loan ']"
            ]
          },
          "metadata": {},
          "execution_count": 23
        }
      ]
    },
    {
      "cell_type": "markdown",
      "source": [
        "### **Extraindo a coluna de education**"
      ],
      "metadata": {
        "id": "gdy6J6lb9eVN"
      }
    },
    {
      "cell_type": "code",
      "source": [
        "education = arquivo_banco.extrair_coluna(indice_coluna=3)\n",
        "print(education)"
      ],
      "metadata": {
        "colab": {
          "base_uri": "https://localhost:8080/"
        },
        "id": "jUFBxVS-9cWG",
        "outputId": "fd935570-d435-4939-d1d5-e4cf87a9b146"
      },
      "execution_count": 24,
      "outputs": [
        {
          "output_type": "stream",
          "name": "stdout",
          "text": [
            "['primary', 'secondary', 'tertiary', 'tertiary', 'secondary', 'tertiary', 'tertiary', 'secondary', 'tertiary', 'primary']\n"
          ]
        }
      ]
    },
    {
      "cell_type": "markdown",
      "source": [
        "### **Classe Arquivo Texto**"
      ],
      "metadata": {
        "id": "qAW9Vga2_qV6"
      }
    },
    {
      "cell_type": "code",
      "source": [
        "class ArquivoTXT:\n",
        "    def __init__(self, arquivo):\n",
        "        self.arquivo = arquivo\n",
        "\n",
        "    def extrair_linha(self, numero_linha):\n",
        "        with open(self.arquivo, 'r') as f:\n",
        "            linhas = f.readlines()\n",
        "            if 0 < numero_linha <= len(linhas):\n",
        "                return linhas[numero_linha - 1].strip()\n",
        "            else:\n",
        "                return None"
      ],
      "metadata": {
        "id": "b8cPIiTRAQb5"
      },
      "execution_count": 25,
      "outputs": []
    },
    {
      "cell_type": "markdown",
      "source": [
        "### **Arquivo noticia.txt**"
      ],
      "metadata": {
        "id": "Brh2z9ni_723"
      }
    },
    {
      "cell_type": "code",
      "source": [
        "%%writefile noticia.txt\n",
        "Egito cobra quase US$ 1 bi para liberar navio que bloqueou Canal de Suez Segundo autoridades, valor será utilizado para recompor as perdas provocados pelo encalhamento da embarcação de quase 400 metros"
      ],
      "metadata": {
        "colab": {
          "base_uri": "https://localhost:8080/"
        },
        "id": "ryexgzA3_2HW",
        "outputId": "17e41834-9ba3-4f0d-d4db-afc8801cbfbe"
      },
      "execution_count": 26,
      "outputs": [
        {
          "output_type": "stream",
          "name": "stdout",
          "text": [
            "Overwriting noticia.txt\n"
          ]
        }
      ]
    },
    {
      "cell_type": "code",
      "source": [
        "arquivo_noticia = ArquivoTXT(arquivo='./noticia.txt')"
      ],
      "metadata": {
        "id": "DSqAguJE_-GR"
      },
      "execution_count": 27,
      "outputs": []
    },
    {
      "cell_type": "code",
      "source": [
        "titulo = arquivo_noticia.extrair_linha(numero_linha=1)\n",
        "print(titulo)"
      ],
      "metadata": {
        "colab": {
          "base_uri": "https://localhost:8080/"
        },
        "id": "9CJu9cB8AAcb",
        "outputId": "9e50634b-de22-4b05-fd4d-dfab84af66f3"
      },
      "execution_count": 28,
      "outputs": [
        {
          "output_type": "stream",
          "name": "stdout",
          "text": [
            "Egito cobra quase US$ 1 bi para liberar navio que bloqueou Canal de Suez Segundo autoridades, valor será utilizado para recompor as perdas provocados pelo encalhamento da embarcação de quase 400 metros\n"
          ]
        }
      ]
    },
    {
      "cell_type": "markdown",
      "source": [
        "### **Instalando pacote**"
      ],
      "metadata": {
        "id": "ZUjJVVwrAnpL"
      }
    },
    {
      "cell_type": "code",
      "source": [
        "!pip install requests==2.25.1"
      ],
      "metadata": {
        "colab": {
          "base_uri": "https://localhost:8080/"
        },
        "id": "lo-chsgEAo2T",
        "outputId": "5cebce02-38d1-438c-850e-79793131c353"
      },
      "execution_count": 29,
      "outputs": [
        {
          "output_type": "stream",
          "name": "stdout",
          "text": [
            "Requirement already satisfied: requests==2.25.1 in /usr/local/lib/python3.10/dist-packages (2.25.1)\n",
            "Requirement already satisfied: chardet<5,>=3.0.2 in /usr/local/lib/python3.10/dist-packages (from requests==2.25.1) (4.0.0)\n",
            "Requirement already satisfied: idna<3,>=2.5 in /usr/local/lib/python3.10/dist-packages (from requests==2.25.1) (2.10)\n",
            "Requirement already satisfied: urllib3<1.27,>=1.21.1 in /usr/local/lib/python3.10/dist-packages (from requests==2.25.1) (1.26.20)\n",
            "Requirement already satisfied: certifi>=2017.4.17 in /usr/local/lib/python3.10/dist-packages (from requests==2.25.1) (2024.8.30)\n"
          ]
        }
      ]
    },
    {
      "cell_type": "markdown",
      "source": [
        "### **Listando pacotes: pip freeze**"
      ],
      "metadata": {
        "id": "bBhg3YDPAtaB"
      }
    },
    {
      "cell_type": "code",
      "source": [
        "!pip freeze"
      ],
      "metadata": {
        "colab": {
          "base_uri": "https://localhost:8080/"
        },
        "id": "yJlPMyqIAu4o",
        "outputId": "01b98f1e-6adf-4b1e-957b-1010f7facad1"
      },
      "execution_count": 30,
      "outputs": [
        {
          "output_type": "stream",
          "name": "stdout",
          "text": [
            "absl-py==1.4.0\n",
            "accelerate==0.34.2\n",
            "aiohappyeyeballs==2.4.3\n",
            "aiohttp==3.10.9\n",
            "aiosignal==1.3.1\n",
            "alabaster==0.7.16\n",
            "albucore==0.0.16\n",
            "albumentations==1.4.15\n",
            "altair==4.2.2\n",
            "annotated-types==0.7.0\n",
            "anyio==3.7.1\n",
            "argon2-cffi==23.1.0\n",
            "argon2-cffi-bindings==21.2.0\n",
            "array_record==0.5.1\n",
            "arviz==0.19.0\n",
            "astropy==6.1.4\n",
            "astropy-iers-data==0.2024.10.7.0.32.46\n",
            "astunparse==1.6.3\n",
            "async-timeout==4.0.3\n",
            "atpublic==4.1.0\n",
            "attrs==24.2.0\n",
            "audioread==3.0.1\n",
            "autograd==1.7.0\n",
            "babel==2.16.0\n",
            "backcall==0.2.0\n",
            "beautifulsoup4==4.12.3\n",
            "bigframes==1.21.0\n",
            "bigquery-magics==0.4.0\n",
            "bleach==6.1.0\n",
            "blinker==1.4\n",
            "blis==0.7.11\n",
            "blosc2==2.0.0\n",
            "bokeh==3.4.3\n",
            "Bottleneck==1.4.0\n",
            "bqplot==0.12.43\n",
            "branca==0.8.0\n",
            "build==1.2.2.post1\n",
            "CacheControl==0.14.0\n",
            "cachetools==5.5.0\n",
            "catalogue==2.0.10\n",
            "certifi==2024.8.30\n",
            "cffi==1.17.1\n",
            "chardet==4.0.0\n",
            "charset-normalizer==3.3.2\n",
            "chex==0.1.87\n",
            "clarabel==0.9.0\n",
            "click==8.1.7\n",
            "cloudpathlib==0.19.0\n",
            "cloudpickle==2.2.1\n",
            "cmake==3.30.4\n",
            "cmdstanpy==1.2.4\n",
            "colorcet==3.1.0\n",
            "colorlover==0.3.0\n",
            "colour==0.1.5\n",
            "community==1.0.0b1\n",
            "confection==0.1.5\n",
            "cons==0.4.6\n",
            "contextlib2==21.6.0\n",
            "contourpy==1.3.0\n",
            "cryptography==43.0.1\n",
            "cuda-python==12.2.1\n",
            "cudf-cu12 @ https://pypi.nvidia.com/cudf-cu12/cudf_cu12-24.6.1-cp310-cp310-manylinux_2_28_x86_64.whl#sha256=6fdd6fd412117503ad23dca75aabb5b536348d3af459b59920152be1a0af6f15\n",
            "cufflinks==0.17.3\n",
            "cupy-cuda12x==12.2.0\n",
            "cvxopt==1.3.2\n",
            "cvxpy==1.5.3\n",
            "cycler==0.12.1\n",
            "cymem==2.0.8\n",
            "Cython==3.0.11\n",
            "dask==2024.8.0\n",
            "datascience==0.17.6\n",
            "db-dtypes==1.3.0\n",
            "dbus-python==1.2.18\n",
            "debugpy==1.6.6\n",
            "decorator==4.4.2\n",
            "defusedxml==0.7.1\n",
            "Deprecated==1.2.14\n",
            "distributed==2024.8.0\n",
            "distro==1.7.0\n",
            "dlib==19.24.2\n",
            "dm-tree==0.1.8\n",
            "docstring_parser==0.16\n",
            "docutils==0.18.1\n",
            "dopamine_rl==4.0.9\n",
            "duckdb==1.1.1\n",
            "earthengine-api==1.0.0\n",
            "easydict==1.13\n",
            "ecos==2.0.14\n",
            "editdistance==0.8.1\n",
            "eerepr==0.0.4\n",
            "einops==0.8.0\n",
            "en-core-web-sm @ https://github.com/explosion/spacy-models/releases/download/en_core_web_sm-3.7.1/en_core_web_sm-3.7.1-py3-none-any.whl#sha256=86cc141f63942d4b2c5fcee06630fd6f904788d2f0ab005cce45aadb8fb73889\n",
            "entrypoints==0.4\n",
            "et-xmlfile==1.1.0\n",
            "etils==1.9.4\n",
            "etuples==0.3.9\n",
            "eval_type_backport==0.2.0\n",
            "exceptiongroup==1.2.2\n",
            "fastai==2.7.17\n",
            "fastcore==1.7.11\n",
            "fastdownload==0.0.7\n",
            "fastjsonschema==2.20.0\n",
            "fastprogress==1.0.3\n",
            "fastrlock==0.8.2\n",
            "filelock==3.16.1\n",
            "firebase-admin==6.5.0\n",
            "Flask==2.2.5\n",
            "flatbuffers==24.3.25\n",
            "flax==0.8.5\n",
            "folium==0.17.0\n",
            "fonttools==4.54.1\n",
            "frozendict==2.4.5\n",
            "frozenlist==1.4.1\n",
            "fsspec==2024.6.1\n",
            "future==1.0.0\n",
            "gast==0.6.0\n",
            "gcsfs==2024.6.1\n",
            "GDAL==3.6.4\n",
            "gdown==5.2.0\n",
            "geemap==0.34.5\n",
            "gensim==4.3.3\n",
            "geocoder==1.38.1\n",
            "geographiclib==2.0\n",
            "geopandas==1.0.1\n",
            "geopy==2.4.1\n",
            "gin-config==0.5.0\n",
            "glob2==0.7\n",
            "google==2.0.3\n",
            "google-ai-generativelanguage==0.6.6\n",
            "google-api-core==2.19.2\n",
            "google-api-python-client==2.137.0\n",
            "google-auth==2.27.0\n",
            "google-auth-httplib2==0.2.0\n",
            "google-auth-oauthlib==1.2.1\n",
            "google-cloud-aiplatform==1.69.0\n",
            "google-cloud-bigquery==3.25.0\n",
            "google-cloud-bigquery-connection==1.15.5\n",
            "google-cloud-bigquery-storage==2.26.0\n",
            "google-cloud-bigtable==2.26.0\n",
            "google-cloud-core==2.4.1\n",
            "google-cloud-datastore==2.19.0\n",
            "google-cloud-firestore==2.16.1\n",
            "google-cloud-functions==1.16.5\n",
            "google-cloud-iam==2.15.2\n",
            "google-cloud-language==2.13.4\n",
            "google-cloud-pubsub==2.25.2\n",
            "google-cloud-resource-manager==1.12.5\n",
            "google-cloud-storage==2.8.0\n",
            "google-cloud-translate==3.15.5\n",
            "google-colab @ file:///colabtools/dist/google_colab-1.0.0.tar.gz#sha256=215006992ba5749e2ca37e5856a84bc2842b66961781b25209805e59d510f8b5\n",
            "google-crc32c==1.6.0\n",
            "google-generativeai==0.7.2\n",
            "google-pasta==0.2.0\n",
            "google-resumable-media==2.7.2\n",
            "googleapis-common-protos==1.65.0\n",
            "googledrivedownloader==0.4\n",
            "graphviz==0.20.3\n",
            "greenlet==3.1.1\n",
            "grpc-google-iam-v1==0.13.1\n",
            "grpcio==1.64.1\n",
            "grpcio-status==1.48.2\n",
            "gspread==6.0.2\n",
            "gspread-dataframe==3.3.1\n",
            "gym==0.25.2\n",
            "gym-notices==0.0.8\n",
            "h5netcdf==1.4.0\n",
            "h5py==3.11.0\n",
            "holidays==0.57\n",
            "holoviews==1.19.1\n",
            "html5lib==1.1\n",
            "httpimport==1.4.0\n",
            "httplib2==0.22.0\n",
            "huggingface-hub==0.24.7\n",
            "humanize==4.10.0\n",
            "hyperopt==0.2.7\n",
            "ibis-framework==9.2.0\n",
            "idna==2.10\n",
            "imageio==2.35.1\n",
            "imageio-ffmpeg==0.5.1\n",
            "imagesize==1.4.1\n",
            "imbalanced-learn==0.12.4\n",
            "imgaug==0.4.0\n",
            "immutabledict==4.2.0\n",
            "importlib_metadata==8.4.0\n",
            "importlib_resources==6.4.5\n",
            "imutils==0.5.4\n",
            "inflect==7.4.0\n",
            "iniconfig==2.0.0\n",
            "intel-cmplr-lib-ur==2024.2.1\n",
            "intel-openmp==2024.2.1\n",
            "ipyevents==2.0.2\n",
            "ipyfilechooser==0.6.0\n",
            "ipykernel==5.5.6\n",
            "ipyleaflet==0.19.2\n",
            "ipyparallel==8.8.0\n",
            "ipython==7.34.0\n",
            "ipython-genutils==0.2.0\n",
            "ipython-sql==0.5.0\n",
            "ipytree==0.2.2\n",
            "ipywidgets==7.7.1\n",
            "itsdangerous==2.2.0\n",
            "jax==0.4.33\n",
            "jax-cuda12-pjrt==0.4.33\n",
            "jax-cuda12-plugin==0.4.33\n",
            "jaxlib==0.4.33\n",
            "jeepney==0.7.1\n",
            "jellyfish==1.1.0\n",
            "jieba==0.42.1\n",
            "Jinja2==3.1.4\n",
            "joblib==1.4.2\n",
            "jsonpickle==3.3.0\n",
            "jsonschema==4.23.0\n",
            "jsonschema-specifications==2023.12.1\n",
            "jupyter-client==6.1.12\n",
            "jupyter-console==6.1.0\n",
            "jupyter-leaflet==0.19.2\n",
            "jupyter-server==1.24.0\n",
            "jupyter_core==5.7.2\n",
            "jupyterlab_pygments==0.3.0\n",
            "jupyterlab_widgets==3.0.13\n",
            "kaggle==1.6.17\n",
            "kagglehub==0.3.1\n",
            "keras==3.4.1\n",
            "keyring==23.5.0\n",
            "kiwisolver==1.4.7\n",
            "langcodes==3.4.1\n",
            "language_data==1.2.0\n",
            "launchpadlib==1.10.16\n",
            "lazr.restfulclient==0.14.4\n",
            "lazr.uri==1.0.6\n",
            "lazy_loader==0.4\n",
            "libclang==18.1.1\n",
            "librosa==0.10.2.post1\n",
            "lightgbm==4.5.0\n",
            "linkify-it-py==2.0.3\n",
            "llvmlite==0.43.0\n",
            "locket==1.0.0\n",
            "logical-unification==0.4.6\n",
            "lxml==4.9.4\n",
            "marisa-trie==1.2.0\n",
            "Markdown==3.7\n",
            "markdown-it-py==3.0.0\n",
            "MarkupSafe==2.1.5\n",
            "matplotlib==3.7.1\n",
            "matplotlib-inline==0.1.7\n",
            "matplotlib-venn==1.1.1\n",
            "mdit-py-plugins==0.4.2\n",
            "mdurl==0.1.2\n",
            "miniKanren==1.0.3\n",
            "missingno==0.5.2\n",
            "mistune==0.8.4\n",
            "mizani==0.11.4\n",
            "mkl==2024.2.2\n",
            "ml-dtypes==0.4.1\n",
            "mlxtend==0.23.1\n",
            "more-itertools==10.5.0\n",
            "moviepy==1.0.3\n",
            "mpmath==1.3.0\n",
            "msgpack==1.0.8\n",
            "multidict==6.1.0\n",
            "multipledispatch==1.0.0\n",
            "multitasking==0.0.11\n",
            "murmurhash==1.0.10\n",
            "music21==9.1.0\n",
            "namex==0.0.8\n",
            "natsort==8.4.0\n",
            "nbclassic==1.1.0\n",
            "nbclient==0.10.0\n",
            "nbconvert==6.5.4\n",
            "nbformat==5.10.4\n",
            "nest-asyncio==1.6.0\n",
            "networkx==3.3\n",
            "nibabel==5.2.1\n",
            "nltk==3.8.1\n",
            "notebook==6.5.5\n",
            "notebook_shim==0.2.4\n",
            "numba==0.60.0\n",
            "numexpr==2.10.1\n",
            "numpy==1.26.4\n",
            "nvidia-cublas-cu12==12.6.3.3\n",
            "nvidia-cuda-cupti-cu12==12.6.80\n",
            "nvidia-cuda-nvcc-cu12==12.6.77\n",
            "nvidia-cuda-runtime-cu12==12.6.77\n",
            "nvidia-cudnn-cu12==9.4.0.58\n",
            "nvidia-cufft-cu12==11.3.0.4\n",
            "nvidia-cusolver-cu12==11.7.1.2\n",
            "nvidia-cusparse-cu12==12.5.4.2\n",
            "nvidia-nccl-cu12==2.23.4\n",
            "nvidia-nvjitlink-cu12==12.6.77\n",
            "nvtx==0.2.10\n",
            "oauth2client==4.1.3\n",
            "oauthlib==3.2.2\n",
            "opencv-contrib-python==4.10.0.84\n",
            "opencv-python==4.10.0.84\n",
            "opencv-python-headless==4.10.0.84\n",
            "openpyxl==3.1.5\n",
            "opentelemetry-api==1.27.0\n",
            "opentelemetry-sdk==1.27.0\n",
            "opentelemetry-semantic-conventions==0.48b0\n",
            "opt_einsum==3.4.0\n",
            "optax==0.2.3\n",
            "optree==0.13.0\n",
            "orbax-checkpoint==0.6.4\n",
            "osqp==0.6.7.post0\n",
            "packaging==24.1\n",
            "pandas==2.2.2\n",
            "pandas-datareader==0.10.0\n",
            "pandas-gbq==0.23.2\n",
            "pandas-stubs==2.2.2.240909\n",
            "pandocfilters==1.5.1\n",
            "panel==1.4.5\n",
            "param==2.1.1\n",
            "parso==0.8.4\n",
            "parsy==2.1\n",
            "partd==1.4.2\n",
            "pathlib==1.0.1\n",
            "patsy==0.5.6\n",
            "peewee==3.17.6\n",
            "pexpect==4.9.0\n",
            "pickleshare==0.7.5\n",
            "pillow==10.4.0\n",
            "pip-tools==7.4.1\n",
            "platformdirs==4.3.6\n",
            "plotly==5.24.1\n",
            "plotnine==0.13.6\n",
            "pluggy==1.5.0\n",
            "polars==1.7.1\n",
            "pooch==1.8.2\n",
            "portpicker==1.5.2\n",
            "prefetch_generator==1.0.3\n",
            "preshed==3.0.9\n",
            "prettytable==3.11.0\n",
            "proglog==0.1.10\n",
            "progressbar2==4.5.0\n",
            "prometheus_client==0.21.0\n",
            "promise==2.3\n",
            "prompt_toolkit==3.0.48\n",
            "prophet==1.1.6\n",
            "proto-plus==1.24.0\n",
            "protobuf==3.20.3\n",
            "psutil==5.9.5\n",
            "psycopg2==2.9.9\n",
            "ptyprocess==0.7.0\n",
            "py-cpuinfo==9.0.0\n",
            "py4j==0.10.9.7\n",
            "pyarrow==16.1.0\n",
            "pyarrow-hotfix==0.6\n",
            "pyasn1==0.6.1\n",
            "pyasn1_modules==0.4.1\n",
            "pycocotools==2.0.8\n",
            "pycparser==2.22\n",
            "pydantic==2.9.2\n",
            "pydantic_core==2.23.4\n",
            "pydata-google-auth==1.8.2\n",
            "pydot==3.0.2\n",
            "pydot-ng==2.0.0\n",
            "pydotplus==2.0.2\n",
            "PyDrive==1.3.1\n",
            "PyDrive2==1.20.0\n",
            "pyerfa==2.0.1.4\n",
            "pygame==2.6.1\n",
            "Pygments==2.18.0\n",
            "PyGObject==3.42.1\n",
            "PyJWT==2.9.0\n",
            "pymc==5.16.2\n",
            "pymystem3==0.2.0\n",
            "pynvjitlink-cu12==0.3.0\n",
            "pyogrio==0.10.0\n",
            "PyOpenGL==3.1.7\n",
            "pyOpenSSL==24.2.1\n",
            "pyparsing==3.1.4\n",
            "pyperclip==1.9.0\n",
            "pyproj==3.7.0\n",
            "pyproject_hooks==1.2.0\n",
            "pyshp==2.3.1\n",
            "PySocks==1.7.1\n",
            "pytensor==2.25.5\n",
            "pytest==7.4.4\n",
            "python-apt==0.0.0\n",
            "python-box==7.2.0\n",
            "python-dateutil==2.8.2\n",
            "python-louvain==0.16\n",
            "python-slugify==8.0.4\n",
            "python-utils==3.9.0\n",
            "pytz==2024.2\n",
            "pyviz_comms==3.0.3\n",
            "PyYAML==6.0.2\n",
            "pyzmq==24.0.1\n",
            "qdldl==0.1.7.post4\n",
            "ratelim==0.1.6\n",
            "referencing==0.35.1\n",
            "regex==2024.9.11\n",
            "requests==2.25.1\n",
            "requests-oauthlib==1.3.1\n",
            "requirements-parser==0.9.0\n",
            "rich==13.9.2\n",
            "rmm-cu12==24.6.0\n",
            "rpds-py==0.20.0\n",
            "rpy2==3.4.2\n",
            "rsa==4.9\n",
            "safetensors==0.4.5\n",
            "scikit-image==0.24.0\n",
            "scikit-learn==1.5.2\n",
            "scipy==1.13.1\n",
            "scooby==0.10.0\n",
            "scs==3.2.7\n",
            "seaborn==0.13.2\n",
            "SecretStorage==3.3.1\n",
            "Send2Trash==1.8.3\n",
            "sentencepiece==0.2.0\n",
            "shapely==2.0.6\n",
            "shellingham==1.5.4\n",
            "simple-parsing==0.1.6\n",
            "six==1.16.0\n",
            "sklearn-pandas==2.2.0\n",
            "smart-open==7.0.5\n",
            "sniffio==1.3.1\n",
            "snowballstemmer==2.2.0\n",
            "sortedcontainers==2.4.0\n",
            "soundfile==0.12.1\n",
            "soupsieve==2.6\n",
            "soxr==0.5.0.post1\n",
            "spacy==3.7.5\n",
            "spacy-legacy==3.0.12\n",
            "spacy-loggers==1.0.5\n",
            "Sphinx==5.0.2\n",
            "sphinxcontrib-applehelp==2.0.0\n",
            "sphinxcontrib-devhelp==2.0.0\n",
            "sphinxcontrib-htmlhelp==2.1.0\n",
            "sphinxcontrib-jsmath==1.0.1\n",
            "sphinxcontrib-qthelp==2.0.0\n",
            "sphinxcontrib-serializinghtml==2.0.0\n",
            "SQLAlchemy==2.0.35\n",
            "sqlglot==25.1.0\n",
            "sqlparse==0.5.1\n",
            "srsly==2.4.8\n",
            "stanio==0.5.1\n",
            "statsmodels==0.14.4\n",
            "StrEnum==0.4.15\n",
            "sympy==1.13.3\n",
            "tables==3.8.0\n",
            "tabulate==0.9.0\n",
            "tbb==2021.13.1\n",
            "tblib==3.0.0\n",
            "tenacity==9.0.0\n",
            "tensorboard==2.17.0\n",
            "tensorboard-data-server==0.7.2\n",
            "tensorflow==2.17.0\n",
            "tensorflow-datasets==4.9.6\n",
            "tensorflow-hub==0.16.1\n",
            "tensorflow-io-gcs-filesystem==0.37.1\n",
            "tensorflow-metadata==1.16.0\n",
            "tensorflow-probability==0.24.0\n",
            "tensorstore==0.1.66\n",
            "termcolor==2.5.0\n",
            "terminado==0.18.1\n",
            "text-unidecode==1.3\n",
            "textblob==0.17.1\n",
            "tf-slim==1.1.0\n",
            "tf_keras==2.17.0\n",
            "thinc==8.2.5\n",
            "threadpoolctl==3.5.0\n",
            "tifffile==2024.9.20\n",
            "tinycss2==1.3.0\n",
            "tokenizers==0.19.1\n",
            "toml==0.10.2\n",
            "tomli==2.0.2\n",
            "toolz==0.12.1\n",
            "torch @ https://download.pytorch.org/whl/cu121_full/torch-2.4.1%2Bcu121-cp310-cp310-linux_x86_64.whl#sha256=f3ed9a2b7f8671b2b32a2f036d1b81055eb3ad9b18ba43b705aa34bae4289e1a\n",
            "torchaudio @ https://download.pytorch.org/whl/cu121_full/torchaudio-2.4.1%2Bcu121-cp310-cp310-linux_x86_64.whl#sha256=da8c87c80a1c1376a48dc33eef30b03bbdf1df25a05bd2b1c620b8811c7b19be\n",
            "torchsummary==1.5.1\n",
            "torchvision @ https://download.pytorch.org/whl/cu121_full/torchvision-0.19.1%2Bcu121-cp310-cp310-linux_x86_64.whl#sha256=b8cc4bf381b75522995b601e07a1b433b5fd925dc3e34a7fa6cd22f449d65379\n",
            "tornado==6.3.3\n",
            "tqdm==4.66.5\n",
            "traitlets==5.7.1\n",
            "traittypes==0.2.1\n",
            "transformers==4.44.2\n",
            "tweepy==4.14.0\n",
            "typeguard==4.3.0\n",
            "typer==0.12.5\n",
            "types-pytz==2024.2.0.20241003\n",
            "types-setuptools==75.1.0.20240917\n",
            "typing_extensions==4.12.2\n",
            "tzdata==2024.2\n",
            "tzlocal==5.2\n",
            "uc-micro-py==1.0.3\n",
            "uritemplate==4.1.1\n",
            "urllib3==1.26.20\n",
            "vega-datasets==0.9.0\n",
            "wadllib==1.3.6\n",
            "wasabi==1.1.3\n",
            "wcwidth==0.2.13\n",
            "weasel==0.4.1\n",
            "webcolors==24.8.0\n",
            "webencodings==0.5.1\n",
            "websocket-client==1.8.0\n",
            "Werkzeug==3.0.4\n",
            "widgetsnbextension==3.6.9\n",
            "wordcloud==1.9.3\n",
            "wrapt==1.16.0\n",
            "xarray==2024.9.0\n",
            "xarray-einstats==0.8.0\n",
            "xgboost==2.1.1\n",
            "xlrd==2.0.1\n",
            "xyzservices==2024.9.0\n",
            "yarl==1.13.1\n",
            "yellowbrick==1.5\n",
            "yfinance==0.2.44\n",
            "zict==3.0.0\n",
            "zipp==3.20.2\n"
          ]
        }
      ]
    },
    {
      "cell_type": "code",
      "source": [
        "!pip install-r requirements.txt"
      ],
      "metadata": {
        "colab": {
          "base_uri": "https://localhost:8080/"
        },
        "id": "VwM7jWU9Awc0",
        "outputId": "1cce89bc-d4d9-4c81-d1ed-d41159eff783"
      },
      "execution_count": 31,
      "outputs": [
        {
          "output_type": "stream",
          "name": "stdout",
          "text": [
            "ERROR: unknown command \"install-r\" - maybe you meant \"install\"\n"
          ]
        }
      ]
    },
    {
      "cell_type": "markdown",
      "source": [
        "### **Removendo pacotes: pip uninstall <pacote>**"
      ],
      "metadata": {
        "id": "1i5oBCPVBGJO"
      }
    },
    {
      "cell_type": "code",
      "source": [
        "!pip uninstall requests"
      ],
      "metadata": {
        "colab": {
          "base_uri": "https://localhost:8080/"
        },
        "id": "O9Y9aLRoBHmQ",
        "outputId": "77dd3e5d-6200-4952-b4f8-fe82ef7784af"
      },
      "execution_count": 32,
      "outputs": [
        {
          "output_type": "stream",
          "name": "stdout",
          "text": [
            "Found existing installation: requests 2.25.1\n",
            "Uninstalling requests-2.25.1:\n",
            "  Would remove:\n",
            "    /usr/local/lib/python3.10/dist-packages/requests-2.25.1.dist-info/*\n",
            "    /usr/local/lib/python3.10/dist-packages/requests/*\n",
            "Proceed (Y/n)? y\n",
            "  Successfully uninstalled requests-2.25.1\n"
          ]
        }
      ]
    },
    {
      "cell_type": "markdown",
      "source": [
        "### **Exemplo: Extrair a taxa CDI do site da B3.**"
      ],
      "metadata": {
        "id": "xQlzfmyTBMZZ"
      }
    },
    {
      "cell_type": "code",
      "source": [
        "!pip install requests"
      ],
      "metadata": {
        "colab": {
          "base_uri": "https://localhost:8080/"
        },
        "id": "DegA6Y_xBfNj",
        "outputId": "49c551c8-1ab8-471b-dedd-a8226833cf15"
      },
      "execution_count": 35,
      "outputs": [
        {
          "output_type": "stream",
          "name": "stdout",
          "text": [
            "Collecting requests\n",
            "  Using cached requests-2.32.3-py3-none-any.whl.metadata (4.6 kB)\n",
            "Requirement already satisfied: charset-normalizer<4,>=2 in /usr/local/lib/python3.10/dist-packages (from requests) (3.3.2)\n",
            "Requirement already satisfied: idna<4,>=2.5 in /usr/local/lib/python3.10/dist-packages (from requests) (2.10)\n",
            "Requirement already satisfied: urllib3<3,>=1.21.1 in /usr/local/lib/python3.10/dist-packages (from requests) (1.26.20)\n",
            "Requirement already satisfied: certifi>=2017.4.17 in /usr/local/lib/python3.10/dist-packages (from requests) (2024.8.30)\n",
            "Using cached requests-2.32.3-py3-none-any.whl (64 kB)\n",
            "Installing collected packages: requests\n",
            "Successfully installed requests-2.32.3\n"
          ]
        }
      ]
    },
    {
      "cell_type": "code",
      "source": [
        "!curl https://www2.cetip.com.br/ConsultarTaxaDi/ConsultarTaxaDICetip.aspx\n",
        "!ping www2.cetip.com.br"
      ],
      "metadata": {
        "colab": {
          "base_uri": "https://localhost:8080/"
        },
        "id": "LV9TGV_ABrqo",
        "outputId": "633a59ac-7bb1-4eee-bd36-4e373f82bf96"
      },
      "execution_count": 38,
      "outputs": [
        {
          "output_type": "stream",
          "name": "stdout",
          "text": [
            "curl: (6) Could not resolve host: www2.cetip.com.br\n",
            "/bin/bash: line 1: ping: command not found\n"
          ]
        }
      ]
    },
    {
      "cell_type": "code",
      "source": [
        "import requests as req\n",
        "\n",
        "try:\n",
        "  response = req.get('https://www2.cetip.com.br/ConsultarTaxaDi/ConsultarTaxaDICetip.aspx')\n",
        "  # Process response here if successful\n",
        "except req.exceptions.ConnectionError as e: # Changed 'requests' to 'req'\n",
        "  print(f\"Error connecting to the website: {e}\")\n",
        "  # Handle the error, e.g., retry later or log the issue."
      ],
      "metadata": {
        "colab": {
          "base_uri": "https://localhost:8080/"
        },
        "id": "WwVcPneWCEb-",
        "outputId": "a69eb0d5-8367-4f79-c47e-3e99500cd71b"
      },
      "execution_count": 42,
      "outputs": [
        {
          "output_type": "stream",
          "name": "stdout",
          "text": [
            "Error connecting to the website: HTTPSConnectionPool(host='www2.cetip.com.br', port=443): Max retries exceeded with url: /ConsultarTaxaDi/ConsultarTaxaDICetip.aspx (Caused by NewConnectionError('<urllib3.connection.HTTPSConnection object at 0x7ff135f00d00>: Failed to establish a new connection: [Errno -5] No address associated with hostname'))\n"
          ]
        }
      ]
    },
    {
      "cell_type": "markdown",
      "source": [
        "## **Importe módulos e pacotes**"
      ],
      "metadata": {
        "id": "R4Y9FZDrCpqU"
      }
    },
    {
      "cell_type": "markdown",
      "source": [
        "### **As:** Permite darmos um apelido para o módulo para utilizarmos dentro do código.\n",
        "\n",
        "### **Ceil**: Operação matemática que faz o arredondamento do número que está sendo passado como parâmetro. Arredonda o número inteiro para cima.\n",
        "\n",
        "### **Comando import:** Comando para importar códigos e pacotes para o ambiente de execução. A boa prática recomenda que importe apenas os elementos que serão utilizados na operação para não sobrecarregar a memória e dificultar a execução do código.\n",
        "\n",
        "### **Choice:** Módulo que seleciona um elemento aleatório dentro de uma coleção.\n",
        "\n",
        "### **Datetime:** Pacote nativo do Python que possibilita manipular datas, horários, entre outros. Permite trabalhar com datas de maneira mais simples.\n",
        "\n",
        "### **From:** Indica quais elementos de interesse serão importados da biblioteca.\n",
        "\n",
        "### **Math:** Módulo que possui uma série de métodos que ajudam a fazer operações matemáticas.\n",
        "\n",
        "### **Método time:** Dentro do módulo time tem um método, também chamado time, que calcula o tempo baseado numa referência, como as horas, minutos, etc.\n",
        "\n",
        "### **Módulo time:** Módulo que permite manipular o tempo com o Ptyhon, ou seja, auxilia a fazer as operações temporais. Indica quais elementos vamos importar da biblioteca.\n",
        "\n",
        "### **Now:** Método que apresenta as informações da data atual (dia, mês, ano, hora).\n",
        "\n",
        "### **Pow:** Operação matemática que faz a elevação dos números a determinadas potências.\n",
        "\n",
        "### **Sleep:** Método que congela a execução do Python por um tempo determinado.\n",
        "\n"
      ],
      "metadata": {
        "id": "mnhyXmjdCwYo"
      }
    },
    {
      "cell_type": "markdown",
      "source": [
        "## **Crie módulos**"
      ],
      "metadata": {
        "id": "MlgUt0mnEAu0"
      }
    },
    {
      "cell_type": "markdown",
      "source": [
        "### **Módulo:** Arquivo de extensão .py com códigos, sejam funções, variáveis, objetos etc., com o objetivo de reutilizar códigos para resolução de problemas. Na biblioteca do Python é identificado sem o sinal de + no nome do arquivo.\n",
        "\n",
        "### **Writefile:** Código nativo do Google Colab que serve para criar arquivos de forma rápida.\n",
        "\n",
        "### **Pacote: **Pasta ou diretório com uma série de módulos. Usado para organizar logicamente os módulos, como os arquivos com processamento de textos, imagens etc. O objetivo é reutilizar códigos para solucionar dificuldades do dia a dia com mais facilidade. Na biblioteca do Python é identificado com um sinal de + no nome do arquivo.\n",
        "\n",
        "### **Arquivo TXT:** Arquivos com textos.\n",
        "\n"
      ],
      "metadata": {
        "id": "3ca1xhzdEB_7"
      }
    },
    {
      "cell_type": "markdown",
      "source": [
        "## **Baixe pacotes da web**"
      ],
      "metadata": {
        "id": "GQU8ZUsqEdnB"
      }
    },
    {
      "cell_type": "markdown",
      "source": [
        "### **Get:** É um método do pacote request que possibilita o download do objeto da página da web para dentro do Python. GitHub stars.\n",
        "\n",
        "### **GitHub stars:** Métrica de qualidade do pacote. Se o pacote tiver mais de 500 estrelas, significa que ele está consolidado.\n",
        "\n",
        "### **Json:** Módulo nativo do Python para dicionário, ou seja, um formato tradicional de troca de informação na web.\n",
        "\n",
        "### **Loads:** Método do Json que possibilita transformar uma string em um dicionário.\n",
        "\n",
        "### **Pandas:** Pacote da comunidade Python utilizado para processar dados.\n",
        "\n",
        "### **PIP:** Ferramenta do Python para fazer downloads de pacotes, ou seja, é um gerenciador de pacotes dessa linguagem de programação.\n",
        "\n",
        "### **Pip freeze:** Comando utilizado para listar os pacotes instalados na máquina, assim como as respectivas versões.\n",
        "\n",
        "### **PyPI:** Repositório de pacotes do Python onde os projetos estão armazenados com suas respectivas documentações.\n",
        "\n",
        "### **Release history:** São os números das versões dos pacotes e o histórico com as datas das atualizações.\n",
        "\n",
        "### **Requests:** Pacote da comunidade Python utilizado para interagir com a internet, ou seja, fazer requisições na web e trazer para o Python.\n",
        "\n",
        "### **Requirements:**Arquivo usado para salvar todos os pacotes instalados na máquina para copiá-los todos de uma vez futuramente. O comando usado para essa ação é o pip install -r requirements.tx.\n",
        "\n",
        "### **Seaborn:** Pacote da comunidade Python utilizado para visualização de dados e para a construção de gráficos.\n",
        "\n",
        "### **Status code:** Atributo que possibilita visualizar se o acesso à informação funcionou. Se retorna com um valor acima de 200 é que deu tudo certo.\n",
        "\n",
        "### **Uninstall:** Comando usado para desinstalar um pacote. Essa ação é feita através da função pip uninstall <pacote>.\n",
        "\n",
        "\n"
      ],
      "metadata": {
        "id": "L92LYiA7EfRU"
      }
    }
  ]
}